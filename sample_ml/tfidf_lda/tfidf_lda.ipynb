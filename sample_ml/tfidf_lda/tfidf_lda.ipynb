{
 "cells": [
  {
   "cell_type": "code",
   "execution_count": 37,
   "metadata": {},
   "outputs": [],
   "source": [
    "import glob\n",
    "import os\n",
    "\n",
    "from bs4 import BeautifulSoup\n",
    "import esanpy\n",
    "import numpy as np\n",
    "from sklearn.feature_extraction.text import TfidfVectorizer\n",
    "from sklearn.decomposition import LatentDirichletAllocation\n",
    "from tqdm import tqdm"
   ]
  },
  {
   "cell_type": "code",
   "execution_count": 32,
   "metadata": {},
   "outputs": [],
   "source": [
    "esanpy.stop_server()\n",
    "esanpy.start_server()"
   ]
  },
  {
   "cell_type": "code",
   "execution_count": 10,
   "metadata": {},
   "outputs": [],
   "source": [
    "natsume_files = glob.glob('data/natsume/files/*.html')"
   ]
  },
  {
   "cell_type": "code",
   "execution_count": 28,
   "metadata": {},
   "outputs": [],
   "source": [
    "def get_soup(filepath):\n",
    "    with open(filepath, encoding='shift_jis') as f:\n",
    "        soup = BeautifulSoup(f, 'html.parser', from_encoding='shift_jis')\n",
    "    return soup\n",
    "\n",
    "def get_texts(filepaths):\n",
    "    texts = [get_soup(filepath).body.text for filepath in tqdm(filepaths)]\n",
    "    return texts"
   ]
  },
  {
   "cell_type": "code",
   "execution_count": 64,
   "metadata": {},
   "outputs": [
    {
     "name": "stderr",
     "output_type": "stream",
     "text": [
      "100%|██████████| 118/118 [00:35<00:00,  3.30it/s]\n"
     ]
    }
   ],
   "source": [
    "natsume_texts = get_texts(natsume_files)"
   ]
  },
  {
   "cell_type": "code",
   "execution_count": 40,
   "metadata": {},
   "outputs": [],
   "source": [
    "def custom_tokenizer(text):\n",
    "    return esanpy.analyzer(text, analyzer='kuromoji_neologd')"
   ]
  },
  {
   "cell_type": "code",
   "execution_count": 65,
   "metadata": {},
   "outputs": [
    {
     "data": {
      "text/plain": [
       "TfidfVectorizer(analyzer='word', binary=False, decode_error='strict',\n",
       "        dtype=<class 'numpy.float64'>, encoding='utf-8', input='content',\n",
       "        lowercase=True, max_df=1.0, max_features=10000, min_df=2,\n",
       "        ngram_range=(1, 1), norm='l2', preprocessor=None, smooth_idf=True,\n",
       "        stop_words=None, strip_accents=None, sublinear_tf=False,\n",
       "        token_pattern='(?u)\\\\b\\\\w\\\\w+\\\\b',\n",
       "        tokenizer=<function custom_tokenizer at 0x11de02ea0>, use_idf=True,\n",
       "        vocabulary=None)"
      ]
     },
     "execution_count": 65,
     "metadata": {},
     "output_type": "execute_result"
    }
   ],
   "source": [
    "vectorizer = TfidfVectorizer(tokenizer=custom_tokenizer, max_features=10000, min_df=2)\n",
    "vectorizer.fit(natsume_texts)"
   ]
  },
  {
   "cell_type": "code",
   "execution_count": 66,
   "metadata": {},
   "outputs": [
    {
     "data": {
      "text/plain": [
       "LatentDirichletAllocation(batch_size=128, doc_topic_prior=None,\n",
       "             evaluate_every=-1, learning_decay=0.7,\n",
       "             learning_method='batch', learning_offset=10.0,\n",
       "             max_doc_update_iter=100, max_iter=100, mean_change_tol=0.001,\n",
       "             n_components=20, n_jobs=-1, n_topics=None, perp_tol=0.1,\n",
       "             random_state=None, topic_word_prior=None,\n",
       "             total_samples=1000000.0, verbose=0)"
      ]
     },
     "execution_count": 66,
     "metadata": {},
     "output_type": "execute_result"
    }
   ],
   "source": [
    "lda = LatentDirichletAllocation(n_components=20, max_iter=100, n_jobs=-1)\n",
    "lda.fit(vectorizer.transform(natsume_texts))"
   ]
  },
  {
   "cell_type": "code",
   "execution_count": 67,
   "metadata": {},
   "outputs": [
    {
     "data": {
      "text/plain": [
       "10000"
      ]
     },
     "execution_count": 67,
     "metadata": {},
     "output_type": "execute_result"
    }
   ],
   "source": [
    "len(vectorizer.get_feature_names())"
   ]
  },
  {
   "cell_type": "code",
   "execution_count": 68,
   "metadata": {},
   "outputs": [
    {
     "name": "stdout",
     "output_type": "stream",
     "text": [
      "component: 0\n",
      "    中佐: 0.4915163072299102\n",
      "    委員: 0.2443820897005533\n",
      "    広瀬: 0.237095604848103\n",
      "    言辞: 0.19279312662096215\n",
      "    再: 0.08351966586996046\n",
      "component: 1\n",
      "    先生: 5.139771166967123\n",
      "    つて: 4.645858098116799\n",
      "    居る: 4.347464785597507\n",
      "    僕: 3.6540210821724117\n",
      "    子規: 2.4679426595934806\n",
      "component: 2\n",
      "    職業: 1.2276807050150358\n",
      "    土: 1.190841391578364\n",
      "    長塚: 1.0233290743840016\n",
      "    ぜんざい: 1.0202090397695605\n",
      "    趣味: 0.8677429116587403\n",
      "component: 3\n",
      "    2041 lancelot: 0.449905101373172\n",
      "    エレーン: 0.33326199821746383\n",
      "    アーサ: 0.253292414872814\n",
      "    騎士: 0.20826200861936267\n",
      "    兜: 0.1125297740990928\n",
      "component: 4\n",
      "    予告: 1.2371799118653202\n",
      "    初出: 1.2162611466923299\n",
      "    郎: 1.1328110896669208\n",
      "    三四: 1.0515218393404302\n",
      "    編集: 0.9369197350170019\n"
     ]
    }
   ],
   "source": [
    "feature_names = vectorizer.get_feature_names()\n",
    "for i, component in enumerate(lda.components_[:5]):\n",
    "    print(f'component: {i}')\n",
    "    indices = component.argsort()[::-1][:5]\n",
    "    for index in indices:\n",
    "        print(f'    {feature_names[index]}: {component[index]}')"
   ]
  },
  {
   "cell_type": "code",
   "execution_count": null,
   "metadata": {},
   "outputs": [],
   "source": []
  }
 ],
 "metadata": {
  "kernelspec": {
   "display_name": "Python 3",
   "language": "python",
   "name": "python3"
  },
  "language_info": {
   "codemirror_mode": {
    "name": "ipython",
    "version": 3
   },
   "file_extension": ".py",
   "mimetype": "text/x-python",
   "name": "python",
   "nbconvert_exporter": "python",
   "pygments_lexer": "ipython3",
   "version": "3.6.3"
  }
 },
 "nbformat": 4,
 "nbformat_minor": 2
}
