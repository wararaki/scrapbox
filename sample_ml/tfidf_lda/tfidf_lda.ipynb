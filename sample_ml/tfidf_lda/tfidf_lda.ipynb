{
 "cells": [
  {
   "cell_type": "code",
   "execution_count": 1,
   "metadata": {},
   "outputs": [],
   "source": [
    "import glob\n",
    "import os\n",
    "\n",
    "from bs4 import BeautifulSoup\n",
    "import esanpy\n",
    "import numpy as np\n",
    "from sklearn.feature_extraction.text import TfidfVectorizer\n",
    "from sklearn.decomposition import LatentDirichletAllocation\n",
    "from tqdm import tqdm"
   ]
  },
  {
   "cell_type": "code",
   "execution_count": 2,
   "metadata": {},
   "outputs": [
    {
     "name": "stderr",
     "output_type": "stream",
     "text": [
      "Failed to stop Elasticsearch process: [Errno 3] No such process\n"
     ]
    }
   ],
   "source": [
    "esanpy.stop_server()\n",
    "esanpy.start_server()"
   ]
  },
  {
   "cell_type": "code",
   "execution_count": 3,
   "metadata": {},
   "outputs": [],
   "source": [
    "natsume_files = glob.glob('data/natsume/files/*.html')"
   ]
  },
  {
   "cell_type": "code",
   "execution_count": 4,
   "metadata": {},
   "outputs": [],
   "source": [
    "def get_soup(filepath):\n",
    "    with open(filepath, encoding='shift_jis') as f:\n",
    "        soup = BeautifulSoup(f, 'html.parser', from_encoding='shift_jis')\n",
    "    return soup\n",
    "\n",
    "def get_texts(filepaths):\n",
    "    texts = [get_soup(filepath).body.text for filepath in tqdm(filepaths)]\n",
    "    return texts"
   ]
  },
  {
   "cell_type": "code",
   "execution_count": 5,
   "metadata": {},
   "outputs": [
    {
     "name": "stderr",
     "output_type": "stream",
     "text": [
      "100%|██████████| 118/118 [00:32<00:00,  3.65it/s]\n"
     ]
    }
   ],
   "source": [
    "natsume_texts = get_texts(natsume_files)"
   ]
  },
  {
   "cell_type": "code",
   "execution_count": 6,
   "metadata": {},
   "outputs": [],
   "source": [
    "def custom_tokenizer(text):\n",
    "    return esanpy.analyzer(text, analyzer='kuromoji_neologd')"
   ]
  },
  {
   "cell_type": "code",
   "execution_count": 7,
   "metadata": {},
   "outputs": [
    {
     "data": {
      "text/plain": [
       "TfidfVectorizer(analyzer='word', binary=False, decode_error='strict',\n",
       "        dtype=<class 'numpy.float64'>, encoding='utf-8', input='content',\n",
       "        lowercase=True, max_df=1.0, max_features=10000, min_df=2,\n",
       "        ngram_range=(1, 1), norm='l2', preprocessor=None, smooth_idf=True,\n",
       "        stop_words=None, strip_accents=None, sublinear_tf=False,\n",
       "        token_pattern='(?u)\\\\b\\\\w\\\\w+\\\\b',\n",
       "        tokenizer=<function custom_tokenizer at 0x114c1ad90>, use_idf=True,\n",
       "        vocabulary=None)"
      ]
     },
     "execution_count": 7,
     "metadata": {},
     "output_type": "execute_result"
    }
   ],
   "source": [
    "vectorizer = TfidfVectorizer(tokenizer=custom_tokenizer, max_features=10000, min_df=2)\n",
    "vectorizer.fit(natsume_texts)"
   ]
  },
  {
   "cell_type": "code",
   "execution_count": 8,
   "metadata": {},
   "outputs": [
    {
     "data": {
      "text/plain": [
       "LatentDirichletAllocation(batch_size=128, doc_topic_prior=None,\n",
       "             evaluate_every=-1, learning_decay=0.7,\n",
       "             learning_method='batch', learning_offset=10.0,\n",
       "             max_doc_update_iter=100, max_iter=100, mean_change_tol=0.001,\n",
       "             n_components=20, n_jobs=-1, n_topics=None, perp_tol=0.1,\n",
       "             random_state=None, topic_word_prior=None,\n",
       "             total_samples=1000000.0, verbose=0)"
      ]
     },
     "execution_count": 8,
     "metadata": {},
     "output_type": "execute_result"
    }
   ],
   "source": [
    "lda = LatentDirichletAllocation(n_components=20, max_iter=100, n_jobs=-1)\n",
    "lda.fit(vectorizer.transform(natsume_texts))"
   ]
  },
  {
   "cell_type": "code",
   "execution_count": 9,
   "metadata": {},
   "outputs": [
    {
     "data": {
      "text/plain": [
       "10000"
      ]
     },
     "execution_count": 9,
     "metadata": {},
     "output_type": "execute_result"
    }
   ],
   "source": [
    "len(vectorizer.get_feature_names())"
   ]
  },
  {
   "cell_type": "code",
   "execution_count": 10,
   "metadata": {},
   "outputs": [
    {
     "name": "stdout",
     "output_type": "stream",
     "text": [
      "component: 0\n",
      "    東菊: 0.6361577407867479\n",
      "    一輪: 0.3970190957173659\n",
      "    碌: 0.32593282481022406\n",
      "    區: 0.29417667753598215\n",
      "    年数: 0.2798871998509871\n",
      "component: 1\n",
      "    要吉: 0.49468633087471386\n",
      "    中佐: 0.49151537282734986\n",
      "    煤煙: 0.3308586429419791\n",
      "    広瀬: 0.2370970092099029\n",
      "    低気圧: 0.20760511301335455\n",
      "component: 2\n",
      "    広瀬: 0.05000000000050258\n",
      "    殊更: 0.05000000000046664\n",
      "    焙炉: 0.05000000000046221\n",
      "    うめこ: 0.050000000000456624\n",
      "    まつすぐ: 0.05000000000044801\n",
      "component: 3\n",
      "    云う: 14.676303889139412\n",
      "    事: 9.328946081694557\n",
      "    人: 7.373100928005811\n",
      "    自分: 7.298362691308151\n",
      "    私: 7.1801829966692665\n",
      "component: 4\n",
      "    余: 8.781808339588675\n",
      "    時: 5.120884220960272\n",
      "    君: 5.080526438146087\n",
      "    上: 4.682456076473297\n",
      "    彼: 4.17499897478692\n"
     ]
    }
   ],
   "source": [
    "feature_names = vectorizer.get_feature_names()\n",
    "for i, component in enumerate(lda.components_[:5]):\n",
    "    print(f'component: {i}')\n",
    "    indices = component.argsort()[::-1][:5]\n",
    "    for index in indices:\n",
    "        print(f'    {feature_names[index]}: {component[index]}')"
   ]
  },
  {
   "cell_type": "code",
   "execution_count": null,
   "metadata": {},
   "outputs": [],
   "source": []
  }
 ],
 "metadata": {
  "kernelspec": {
   "display_name": "Python 3",
   "language": "python",
   "name": "python3"
  },
  "language_info": {
   "codemirror_mode": {
    "name": "ipython",
    "version": 3
   },
   "file_extension": ".py",
   "mimetype": "text/x-python",
   "name": "python",
   "nbconvert_exporter": "python",
   "pygments_lexer": "ipython3",
   "version": "3.6.3"
  }
 },
 "nbformat": 4,
 "nbformat_minor": 2
}
