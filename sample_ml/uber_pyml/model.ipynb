{
 "cells": [
  {
   "cell_type": "code",
   "execution_count": 7,
   "metadata": {},
   "outputs": [
    {
     "name": "stdout",
     "output_type": "stream",
     "text": [
      "Writing prediction_model/model.py\n"
     ]
    }
   ],
   "source": [
    "%%writefile prediction_model/model.py\n",
    "\n",
    "import pandas as pd\n",
    "import numpy as np\n",
    "import pickle\n",
    "\n",
    "from pyml.model.dataframe_model import DataFrameModel\n",
    "from sklearn.externals import joblib\n",
    "\n",
    "class LogisticRegressionModel(DataFrameModel)\n",
    "    def __init__(self):\n",
    "         super(LogisticRegressionModel, self).__init__()\n",
    "        # load the model weights and feature name\n",
    "        self.clf = joblib.load('weights.pkl')\n",
    "        self.feature_columns = pickle.load(open('feature_columns.pkl', 'rb'))\n",
    "\n",
    "    def predict(self, df):\n",
    "        df['probability'] = self.clf.predict_proba(\n",
    "            df[self.feature_columns]\n",
    "        )[:, 0]\n",
    "        return df"
   ]
  },
  {
   "cell_type": "code",
   "execution_count": 8,
   "metadata": {},
   "outputs": [
    {
     "name": "stdout",
     "output_type": "stream",
     "text": [
      "Writing prediction_model/requirements.txt\n"
     ]
    }
   ],
   "source": [
    "%%writefile prediction_model/requirements.txt\n",
    "numpy==1.16.1\n",
    "pandas==0.24.1\n",
    "scikit-learn==0.20.2"
   ]
  },
  {
   "cell_type": "code",
   "execution_count": null,
   "metadata": {},
   "outputs": [],
   "source": []
  }
 ],
 "metadata": {
  "kernelspec": {
   "display_name": "Python 3",
   "language": "python",
   "name": "python3"
  },
  "language_info": {
   "codemirror_mode": {
    "name": "ipython",
    "version": 3
   },
   "file_extension": ".py",
   "mimetype": "text/x-python",
   "name": "python",
   "nbconvert_exporter": "python",
   "pygments_lexer": "ipython3",
   "version": "3.6.3"
  }
 },
 "nbformat": 4,
 "nbformat_minor": 2
}
