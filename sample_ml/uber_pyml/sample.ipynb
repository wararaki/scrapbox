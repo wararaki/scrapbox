{
 "cells": [
  {
   "cell_type": "code",
   "execution_count": 2,
   "metadata": {},
   "outputs": [],
   "source": [
    "import importlib\n",
    "import os"
   ]
  },
  {
   "cell_type": "code",
   "execution_count": 29,
   "metadata": {},
   "outputs": [],
   "source": [
    "class PyMLModel:\n",
    "    def __init__(self, model_path, model_name):\n",
    "        model_file = '.'.join([model_path, 'model'])\n",
    "        class_ = getattr(importlib.import_module(model_file), model_name)\n",
    "\n",
    "        current_dir = os.getcwd()\n",
    "        os.chdir(os.path.join(current_dir, model_path))\n",
    "        self.model = class_()\n",
    "        os.chdir(current_dir)\n",
    "\n",
    "        \n",
    "    def predict(self, df):\n",
    "        return self.model.predict(df)"
   ]
  },
  {
   "cell_type": "code",
   "execution_count": 30,
   "metadata": {},
   "outputs": [],
   "source": [
    "model_path = 'prediction_model'\n",
    "model_name = 'LogisticRegressionModel'"
   ]
  },
  {
   "cell_type": "code",
   "execution_count": 31,
   "metadata": {},
   "outputs": [],
   "source": [
    "pyml_model = PyMLModel(model_path, model_name)"
   ]
  },
  {
   "cell_type": "code",
   "execution_count": 32,
   "metadata": {},
   "outputs": [],
   "source": [
    "import numpy as np\n",
    "import pandas as pd\n",
    "from sklearn.datasets import load_breast_cancer"
   ]
  },
  {
   "cell_type": "code",
   "execution_count": 33,
   "metadata": {},
   "outputs": [],
   "source": [
    "dataset = load_breast_cancer()\n",
    "feature_columns = [name.replace(' ', '_') for name in dataset.feature_names.tolist()]\n",
    "pandas_df = pd.DataFrame(data=np.c_[dataset.data, dataset.target], columns=feature_columns+['target'])"
   ]
  },
  {
   "cell_type": "code",
   "execution_count": 35,
   "metadata": {},
   "outputs": [
    {
     "data": {
      "text/plain": [
       "0      1.000000\n",
       "1      1.000000\n",
       "2      1.000000\n",
       "3      0.426209\n",
       "4      0.999987\n",
       "5      0.762577\n",
       "6      0.999997\n",
       "7      0.979977\n",
       "8      0.907874\n",
       "9      0.998523\n",
       "10     0.997046\n",
       "11     0.999966\n",
       "12     0.999981\n",
       "13     0.332365\n",
       "14     0.816931\n",
       "15     0.998912\n",
       "16     0.999307\n",
       "17     0.999986\n",
       "18     1.000000\n",
       "19     0.022434\n",
       "20     0.006224\n",
       "21     0.000437\n",
       "22     0.946668\n",
       "23     1.000000\n",
       "24     1.000000\n",
       "25     1.000000\n",
       "26     0.970733\n",
       "27     0.999979\n",
       "28     0.999998\n",
       "29     0.990183\n",
       "         ...   \n",
       "539    0.065575\n",
       "540    0.000830\n",
       "541    0.677407\n",
       "542    0.287165\n",
       "543    0.105085\n",
       "544    0.016304\n",
       "545    0.147582\n",
       "546    0.001535\n",
       "547    0.001406\n",
       "548    0.007124\n",
       "549    0.106533\n",
       "550    0.001917\n",
       "551    0.008362\n",
       "552    0.070975\n",
       "553    0.001301\n",
       "554    0.079436\n",
       "555    0.011351\n",
       "556    0.000350\n",
       "557    0.011661\n",
       "558    0.055160\n",
       "559    0.045463\n",
       "560    0.164552\n",
       "561    0.002994\n",
       "562    0.999398\n",
       "563    1.000000\n",
       "564    1.000000\n",
       "565    1.000000\n",
       "566    0.997818\n",
       "567    1.000000\n",
       "568    0.042370\n",
       "Name: probability, Length: 569, dtype: float64"
      ]
     },
     "execution_count": 35,
     "metadata": {},
     "output_type": "execute_result"
    }
   ],
   "source": [
    "pyml_model.predict(pandas_df)['probability']"
   ]
  },
  {
   "cell_type": "code",
   "execution_count": null,
   "metadata": {},
   "outputs": [],
   "source": []
  }
 ],
 "metadata": {
  "kernelspec": {
   "display_name": "Python 3",
   "language": "python",
   "name": "python3"
  },
  "language_info": {
   "codemirror_mode": {
    "name": "ipython",
    "version": 3
   },
   "file_extension": ".py",
   "mimetype": "text/x-python",
   "name": "python",
   "nbconvert_exporter": "python",
   "pygments_lexer": "ipython3",
   "version": "3.6.3"
  }
 },
 "nbformat": 4,
 "nbformat_minor": 2
}
