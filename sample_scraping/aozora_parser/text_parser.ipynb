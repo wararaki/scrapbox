{
 "cells": [
  {
   "cell_type": "code",
   "execution_count": 76,
   "metadata": {},
   "outputs": [],
   "source": [
    "import os\n",
    "import re\n",
    "\n",
    "from bs4 import BeautifulSoup\n",
    "import pandas as pd\n",
    "from tqdm import tqdm"
   ]
  },
  {
   "cell_type": "code",
   "execution_count": 3,
   "metadata": {},
   "outputs": [],
   "source": [
    "files = os.listdir('files')"
   ]
  },
  {
   "cell_type": "code",
   "execution_count": 10,
   "metadata": {},
   "outputs": [],
   "source": [
    "def load_soup(filepath):\n",
    "    with open(filepath, encoding='shift-jis') as f:\n",
    "        soup = BeautifulSoup(f, fromEncoding='shift-jis')\n",
    "    return soup"
   ]
  },
  {
   "cell_type": "code",
   "execution_count": 69,
   "metadata": {},
   "outputs": [],
   "source": [
    "def get_text(soup):\n",
    "    try:\n",
    "        text = soup.find(class_='main_text').text\n",
    "    except AttributeError:\n",
    "        text = soup.find('body').text\n",
    "    return text"
   ]
  },
  {
   "cell_type": "code",
   "execution_count": 67,
   "metadata": {},
   "outputs": [],
   "source": [
    "def fix_text(text):\n",
    "    # remove ruby & full space\n",
    "    text = re.sub(r'(（.*）)|　', '', text)\n",
    "    return text"
   ]
  },
  {
   "cell_type": "code",
   "execution_count": 70,
   "metadata": {},
   "outputs": [
    {
     "name": "stderr",
     "output_type": "stream",
     "text": [
      "100%|██████████| 251/251 [00:17<00:00, 14.23it/s]\n"
     ]
    }
   ],
   "source": [
    "texts = []\n",
    "for file in tqdm(files):\n",
    "    # check file\n",
    "    if not file.endswith('.html'):\n",
    "        continue\n",
    "    \n",
    "    # load html file.\n",
    "    filepath = os.path.join('files', file)\n",
    "    soup = load_soup(filepath)\n",
    "    \n",
    "    # fix text\n",
    "    text = get_text(soup)\n",
    "    text = fix_text(text)\n",
    "    texts.append(text)"
   ]
  },
  {
   "cell_type": "code",
   "execution_count": 80,
   "metadata": {},
   "outputs": [],
   "source": [
    "pd.DataFrame(texts).to_json('natsune.ndjson', orient='records', lines=True)"
   ]
  },
  {
   "cell_type": "code",
   "execution_count": null,
   "metadata": {},
   "outputs": [],
   "source": []
  }
 ],
 "metadata": {
  "kernelspec": {
   "display_name": "Python 3",
   "language": "python",
   "name": "python3"
  },
  "language_info": {
   "codemirror_mode": {
    "name": "ipython",
    "version": 3
   },
   "file_extension": ".py",
   "mimetype": "text/x-python",
   "name": "python",
   "nbconvert_exporter": "python",
   "pygments_lexer": "ipython3",
   "version": "3.7.0"
  }
 },
 "nbformat": 4,
 "nbformat_minor": 2
}
