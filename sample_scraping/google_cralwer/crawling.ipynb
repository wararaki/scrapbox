{
 "cells": [
  {
   "cell_type": "markdown",
   "metadata": {},
   "source": [
    "google image search\n",
    "\n",
    "https://developers.google.com/custom-search/v1/using_rest\n",
    "https://developers.google.com/custom-search/v1/cse/list#request"
   ]
  },
  {
   "cell_type": "code",
   "execution_count": 41,
   "metadata": {},
   "outputs": [],
   "source": [
    "import requests\n",
    "import tqdm\n",
    "\n",
    "import urllib"
   ]
  },
  {
   "cell_type": "code",
   "execution_count": 4,
   "metadata": {},
   "outputs": [],
   "source": [
    "with open(\"../.credentials/google_key.txt\") as f:\n",
    "    subscription_key = f.read().replace('\\n','')"
   ]
  },
  {
   "cell_type": "code",
   "execution_count": 26,
   "metadata": {},
   "outputs": [],
   "source": [
    "with open(\"../.credentials/cx.txt\") as f:\n",
    "    cx_key = f.read().replace('\\n', '')"
   ]
  },
  {
   "cell_type": "code",
   "execution_count": 27,
   "metadata": {},
   "outputs": [],
   "source": [
    "search_url = \"https://www.googleapis.com/customsearch/v1\"\n",
    "search_term = \"出汁巻玉子\"\n",
    "# search_term = \"だし巻き玉子\""
   ]
  },
  {
   "cell_type": "code",
   "execution_count": 28,
   "metadata": {},
   "outputs": [],
   "source": [
    "def get_bing_images(url, term, key, cx):\n",
    "    params  = {\"q\": term,  \"key\": key, \"cx\": cx}\n",
    "    response = requests.get(url, params=params)\n",
    "    return response.json()"
   ]
  },
  {
   "cell_type": "code",
   "execution_count": 29,
   "metadata": {},
   "outputs": [],
   "source": [
    "search_results = get_bing_images(search_url, search_term, subscription_key, cx_key)"
   ]
  },
  {
   "cell_type": "code",
   "execution_count": 44,
   "metadata": {},
   "outputs": [],
   "source": [
    "items = search_results.get('items')"
   ]
  },
  {
   "cell_type": "code",
   "execution_count": 53,
   "metadata": {},
   "outputs": [],
   "source": [
    "def download_image(cse_image):\n",
    "    url = cse_image.get('src')\n",
    "    url = urllib.parse.urlunparse(urllib.parse.urlparse(url)._replace(query=None))\n",
    "    response = requests.get(url)\n",
    "    return response.content, url.split('.')[-1] # image data & extend"
   ]
  },
  {
   "cell_type": "code",
   "execution_count": 46,
   "metadata": {},
   "outputs": [],
   "source": [
    "def save_image(filename, image):\n",
    "    with open(filename, 'wb') as f:\n",
    "        f.write(image)"
   ]
  },
  {
   "cell_type": "code",
   "execution_count": 55,
   "metadata": {},
   "outputs": [
    {
     "name": "stderr",
     "output_type": "stream",
     "text": [
      "100%|██████████| 10/10 [00:01<00:00,  6.37it/s]"
     ]
    },
    {
     "name": "stdout",
     "output_type": "stream",
     "text": [
      "10-images created.\n",
      "finish\n"
     ]
    },
    {
     "name": "stderr",
     "output_type": "stream",
     "text": [
      "\n"
     ]
    }
   ],
   "source": [
    "dir_path = 'images'\n",
    "counter = 0\n",
    "for item in tqdm.tqdm(items):\n",
    "    cse_images = item.get('pagemap').get('cse_image')\n",
    "    for cse_image in cse_images:\n",
    "        image, ext = download_image(cse_image)\n",
    "        filename = \"{0}/dashimaki{1:04d}.{2}\".format(dir_path, counter, ext)\n",
    "        save_image(filename, image)\n",
    "        if (counter+1)%10 == 0:\n",
    "            print(f\"{counter+1}-images created.\")\n",
    "        counter += 1\n",
    "print(\"finish\")"
   ]
  },
  {
   "cell_type": "code",
   "execution_count": null,
   "metadata": {},
   "outputs": [],
   "source": []
  }
 ],
 "metadata": {
  "kernelspec": {
   "display_name": "Python 3",
   "language": "python",
   "name": "python3"
  },
  "language_info": {
   "codemirror_mode": {
    "name": "ipython",
    "version": 3
   },
   "file_extension": ".py",
   "mimetype": "text/x-python",
   "name": "python",
   "nbconvert_exporter": "python",
   "pygments_lexer": "ipython3",
   "version": "3.6.3"
  }
 },
 "nbformat": 4,
 "nbformat_minor": 2
}
