{
 "cells": [
  {
   "cell_type": "markdown",
   "metadata": {},
   "source": [
    "Surprise でいろんなレコメンドを扱ってみる。"
   ]
  },
  {
   "cell_type": "markdown",
   "metadata": {},
   "source": [
    "カスタムデータを使って、レコメンドしてみる。  \n",
    "https://surprise.readthedocs.io/en/stable/getting_started.html#use-a-custom-dataset"
   ]
  },
  {
   "cell_type": "code",
   "execution_count": 2,
   "metadata": {},
   "outputs": [],
   "source": [
    "import pandas as pd\n",
    "import surprise"
   ]
  },
  {
   "cell_type": "code",
   "execution_count": 5,
   "metadata": {},
   "outputs": [],
   "source": [
    "# data = surprise.Dataset.load_builtin('ml-100k')"
   ]
  },
  {
   "cell_type": "markdown",
   "metadata": {},
   "source": [
    "user_id, item_id, rating の組を作る。"
   ]
  },
  {
   "cell_type": "code",
   "execution_count": 8,
   "metadata": {},
   "outputs": [
    {
     "data": {
      "text/plain": [
       "(100000, 4)"
      ]
     },
     "metadata": {},
     "output_type": "display_data"
    },
    {
     "data": {
      "text/html": [
       "<div>\n",
       "<style scoped>\n",
       "    .dataframe tbody tr th:only-of-type {\n",
       "        vertical-align: middle;\n",
       "    }\n",
       "\n",
       "    .dataframe tbody tr th {\n",
       "        vertical-align: top;\n",
       "    }\n",
       "\n",
       "    .dataframe thead th {\n",
       "        text-align: right;\n",
       "    }\n",
       "</style>\n",
       "<table border=\"1\" class=\"dataframe\">\n",
       "  <thead>\n",
       "    <tr style=\"text-align: right;\">\n",
       "      <th></th>\n",
       "      <th>user_id</th>\n",
       "      <th>item_id</th>\n",
       "      <th>rating</th>\n",
       "      <th>timestamp</th>\n",
       "    </tr>\n",
       "  </thead>\n",
       "  <tbody>\n",
       "    <tr>\n",
       "      <th>0</th>\n",
       "      <td>196</td>\n",
       "      <td>242</td>\n",
       "      <td>3</td>\n",
       "      <td>881250949</td>\n",
       "    </tr>\n",
       "    <tr>\n",
       "      <th>1</th>\n",
       "      <td>186</td>\n",
       "      <td>302</td>\n",
       "      <td>3</td>\n",
       "      <td>891717742</td>\n",
       "    </tr>\n",
       "    <tr>\n",
       "      <th>2</th>\n",
       "      <td>22</td>\n",
       "      <td>377</td>\n",
       "      <td>1</td>\n",
       "      <td>878887116</td>\n",
       "    </tr>\n",
       "  </tbody>\n",
       "</table>\n",
       "</div>"
      ],
      "text/plain": [
       "   user_id  item_id  rating  timestamp\n",
       "0      196      242       3  881250949\n",
       "1      186      302       3  891717742\n",
       "2       22      377       1  878887116"
      ]
     },
     "execution_count": 8,
     "metadata": {},
     "output_type": "execute_result"
    }
   ],
   "source": [
    "data_df = pd.read_csv(\"~/.surprise_data/ml-100k/ml-100k/u.data\", sep='\\t', header=None)\n",
    "data_df.columns = ['user_id', 'item_id', 'rating', 'timestamp']\n",
    "\n",
    "display(data_df.shape)\n",
    "data_df.head(3)"
   ]
  },
  {
   "cell_type": "code",
   "execution_count": 10,
   "metadata": {},
   "outputs": [],
   "source": [
    "reader = surprise.Reader(rating_scale=(1, 5))\n",
    "data = surprise.Dataset.load_from_df(data_df.drop(columns=['timestamp']), reader)"
   ]
  },
  {
   "cell_type": "code",
   "execution_count": 12,
   "metadata": {},
   "outputs": [],
   "source": [
    "train, test = surprise.model_selection.train_test_split(data, test_size=0.25)"
   ]
  },
  {
   "cell_type": "markdown",
   "metadata": {},
   "source": [
    "レコメンドしてみる。  \n",
    "推定のベースラインとなる手法は「ALS」と「SGD」があり、指定がなければ ALS で学習する。\n",
    "https://surprise.readthedocs.io/en/stable/prediction_algorithms.html#baselines-estimates-configuration\n",
    "\n",
    "類似の評価方法は以下のページ参考。指定がなければ、 MSD を使う。  （MSD: mean squared difference）\n",
    "https://surprise.readthedocs.io/en/stable/prediction_algorithms.html#similarity-measure-configuration"
   ]
  },
  {
   "cell_type": "markdown",
   "metadata": {},
   "source": [
    "アルゴリズムのパッケージがいろいろあるので試してみる。  \n",
    "https://surprise.readthedocs.io/en/stable/prediction_algorithms_package.html"
   ]
  },
  {
   "cell_type": "markdown",
   "metadata": {},
   "source": [
    "## KNN"
   ]
  },
  {
   "cell_type": "code",
   "execution_count": 33,
   "metadata": {},
   "outputs": [
    {
     "name": "stdout",
     "output_type": "stream",
     "text": [
      "Computing the msd similarity matrix...\n",
      "Done computing similarity matrix.\n",
      "RMSE: 0.9970\n"
     ]
    },
    {
     "data": {
      "text/plain": [
       "0.9970334424786582"
      ]
     },
     "metadata": {},
     "output_type": "display_data"
    },
    {
     "data": {
      "text/plain": [
       "[Prediction(uid=899, iid=414, r_ui=2.0, est=3.278719037032611, details={'actual_k': 10, 'was_impossible': False}),\n",
       " Prediction(uid=721, iid=299, r_ui=3.0, est=2.6871815781621486, details={'actual_k': 10, 'was_impossible': False}),\n",
       " Prediction(uid=796, iid=826, r_ui=2.0, est=3.185112434443205, details={'actual_k': 10, 'was_impossible': False})]"
      ]
     },
     "metadata": {},
     "output_type": "display_data"
    },
    {
     "data": {
      "text/plain": [
       "Prediction(uid=899, iid=414, r_ui=None, est=3.278719037032611, details={'actual_k': 10, 'was_impossible': False})"
      ]
     },
     "execution_count": 33,
     "metadata": {},
     "output_type": "execute_result"
    }
   ],
   "source": [
    "# knn-basic\n",
    "from surprise import KNNBasic\n",
    "\n",
    "model = KNNBasic(k=10, min_k=1)\n",
    "model.fit(train)\n",
    "\n",
    "preds = model.test(test)\n",
    "display(surprise.accuracy.rmse(preds))\n",
    "display(preds[:3])\n",
    "\n",
    "# (uid, iid)\n",
    "model.predict(899, 414)"
   ]
  },
  {
   "cell_type": "code",
   "execution_count": 32,
   "metadata": {},
   "outputs": [
    {
     "name": "stdout",
     "output_type": "stream",
     "text": [
      "Computing the msd similarity matrix...\n",
      "Done computing similarity matrix.\n",
      "RMSE: 0.9829\n"
     ]
    },
    {
     "data": {
      "text/plain": [
       "0.9828628061662306"
      ]
     },
     "metadata": {},
     "output_type": "display_data"
    },
    {
     "data": {
      "text/plain": [
       "[Prediction(uid=899, iid=414, r_ui=2.0, est=3.1688408524492853, details={'actual_k': 10, 'was_impossible': False}),\n",
       " Prediction(uid=721, iid=299, r_ui=3.0, est=2.8427338235927704, details={'actual_k': 10, 'was_impossible': False}),\n",
       " Prediction(uid=796, iid=826, r_ui=2.0, est=3.1177282711223415, details={'actual_k': 10, 'was_impossible': False})]"
      ]
     },
     "metadata": {},
     "output_type": "display_data"
    },
    {
     "data": {
      "text/plain": [
       "Prediction(uid=899, iid=414, r_ui=None, est=3.1688408524492853, details={'actual_k': 10, 'was_impossible': False})"
      ]
     },
     "execution_count": 32,
     "metadata": {},
     "output_type": "execute_result"
    }
   ],
   "source": [
    "# knn-with-means\n",
    "from surprise import KNNWithMeans\n",
    "\n",
    "model = KNNWithMeans(k=10, min_k=1)\n",
    "model.fit(train)\n",
    "\n",
    "preds = model.test(test)\n",
    "display(surprise.accuracy.rmse(preds))\n",
    "display(preds[:3])\n",
    "\n",
    "# (uid, iid)\n",
    "model.predict(899, 414)"
   ]
  },
  {
   "cell_type": "code",
   "execution_count": 31,
   "metadata": {},
   "outputs": [
    {
     "name": "stdout",
     "output_type": "stream",
     "text": [
      "Computing the msd similarity matrix...\n",
      "Done computing similarity matrix.\n",
      "RMSE: 0.9895\n"
     ]
    },
    {
     "data": {
      "text/plain": [
       "0.9895299458370242"
      ]
     },
     "metadata": {},
     "output_type": "display_data"
    },
    {
     "data": {
      "text/plain": [
       "[Prediction(uid=899, iid=414, r_ui=2.0, est=3.0909100375599565, details={'actual_k': 10, 'was_impossible': False}),\n",
       " Prediction(uid=721, iid=299, r_ui=3.0, est=2.7574135243284634, details={'actual_k': 10, 'was_impossible': False}),\n",
       " Prediction(uid=796, iid=826, r_ui=2.0, est=3.063007370952015, details={'actual_k': 10, 'was_impossible': False})]"
      ]
     },
     "metadata": {},
     "output_type": "display_data"
    },
    {
     "data": {
      "text/plain": [
       "Prediction(uid=899, iid=414, r_ui=None, est=3.0909100375599565, details={'actual_k': 10, 'was_impossible': False})"
      ]
     },
     "execution_count": 31,
     "metadata": {},
     "output_type": "execute_result"
    }
   ],
   "source": [
    "from surprise import KNNWithZScore\n",
    "\n",
    "model = KNNWithZScore(k=10, min_k=1)\n",
    "model.fit(train)\n",
    "\n",
    "preds = model.test(test)\n",
    "display(surprise.accuracy.rmse(preds))\n",
    "display(preds[:3])\n",
    "\n",
    "# (uid, iid)\n",
    "model.predict(899, 414)"
   ]
  },
  {
   "cell_type": "code",
   "execution_count": 30,
   "metadata": {},
   "outputs": [
    {
     "name": "stdout",
     "output_type": "stream",
     "text": [
      "Estimating biases using als...\n",
      "Computing the msd similarity matrix...\n",
      "Done computing similarity matrix.\n",
      "RMSE: 0.9577\n"
     ]
    },
    {
     "data": {
      "text/plain": [
       "0.9576563091609651"
      ]
     },
     "metadata": {},
     "output_type": "display_data"
    },
    {
     "data": {
      "text/plain": [
       "[Prediction(uid=899, iid=414, r_ui=2.0, est=3.1689622719087995, details={'actual_k': 10, 'was_impossible': False}),\n",
       " Prediction(uid=721, iid=299, r_ui=3.0, est=2.748796861454316, details={'actual_k': 10, 'was_impossible': False}),\n",
       " Prediction(uid=796, iid=826, r_ui=2.0, est=3.0278242898934873, details={'actual_k': 10, 'was_impossible': False})]"
      ]
     },
     "metadata": {},
     "output_type": "display_data"
    },
    {
     "data": {
      "text/plain": [
       "Prediction(uid=899, iid=414, r_ui=None, est=3.1689622719087995, details={'actual_k': 10, 'was_impossible': False})"
      ]
     },
     "execution_count": 30,
     "metadata": {},
     "output_type": "execute_result"
    }
   ],
   "source": [
    "from surprise import KNNBaseline\n",
    "\n",
    "model = KNNBaseline(k=10, min_k=1)\n",
    "model.fit(train)\n",
    "\n",
    "preds = model.test(test)\n",
    "display(surprise.accuracy.rmse(preds))\n",
    "display(preds[:3])\n",
    "\n",
    "# (uid, iid)\n",
    "model.predict(899, 414)"
   ]
  },
  {
   "cell_type": "markdown",
   "metadata": {},
   "source": [
    "## Matrix Factorization"
   ]
  },
  {
   "cell_type": "code",
   "execution_count": 29,
   "metadata": {},
   "outputs": [
    {
     "name": "stdout",
     "output_type": "stream",
     "text": [
      "RMSE: 0.9401\n"
     ]
    },
    {
     "data": {
      "text/plain": [
       "0.9401387432312075"
      ]
     },
     "metadata": {},
     "output_type": "display_data"
    },
    {
     "data": {
      "text/plain": [
       "[Prediction(uid=899, iid=414, r_ui=2.0, est=3.3281851669930713, details={'was_impossible': False}),\n",
       " Prediction(uid=721, iid=299, r_ui=3.0, est=2.9968902502531702, details={'was_impossible': False}),\n",
       " Prediction(uid=796, iid=826, r_ui=2.0, est=2.844650721979961, details={'was_impossible': False})]"
      ]
     },
     "metadata": {},
     "output_type": "display_data"
    },
    {
     "data": {
      "text/plain": [
       "Prediction(uid=899, iid=414, r_ui=None, est=3.3281851669930713, details={'was_impossible': False})"
      ]
     },
     "execution_count": 29,
     "metadata": {},
     "output_type": "execute_result"
    }
   ],
   "source": [
    "from surprise import SVD\n",
    "\n",
    "model = SVD(n_factors=20, n_epochs=20)\n",
    "model.fit(train)\n",
    "\n",
    "preds = model.test(test)\n",
    "display(surprise.accuracy.rmse(preds))\n",
    "display(preds[:3])\n",
    "\n",
    "# (uid, iid)\n",
    "model.predict(899, 414)"
   ]
  },
  {
   "cell_type": "code",
   "execution_count": 34,
   "metadata": {},
   "outputs": [
    {
     "name": "stdout",
     "output_type": "stream",
     "text": [
      "RMSE: 0.9226\n"
     ]
    },
    {
     "data": {
      "text/plain": [
       "0.922615620486141"
      ]
     },
     "metadata": {},
     "output_type": "display_data"
    },
    {
     "data": {
      "text/plain": [
       "[Prediction(uid=899, iid=414, r_ui=2.0, est=3.2735526509591653, details={'was_impossible': False}),\n",
       " Prediction(uid=721, iid=299, r_ui=3.0, est=2.955180601387324, details={'was_impossible': False}),\n",
       " Prediction(uid=796, iid=826, r_ui=2.0, est=3.0996444853988425, details={'was_impossible': False})]"
      ]
     },
     "metadata": {},
     "output_type": "display_data"
    },
    {
     "data": {
      "text/plain": [
       "Prediction(uid=899, iid=414, r_ui=None, est=3.2735526509591653, details={'was_impossible': False})"
      ]
     },
     "execution_count": 34,
     "metadata": {},
     "output_type": "execute_result"
    }
   ],
   "source": [
    "from surprise import SVDpp\n",
    "\n",
    "model = SVDpp(n_factors=20, n_epochs=20)\n",
    "model.fit(train)\n",
    "\n",
    "preds = model.test(test)\n",
    "display(surprise.accuracy.rmse(preds))\n",
    "display(preds[:3])\n",
    "\n",
    "# (uid, iid)\n",
    "model.predict(899, 414)"
   ]
  },
  {
   "cell_type": "code",
   "execution_count": 35,
   "metadata": {},
   "outputs": [
    {
     "name": "stdout",
     "output_type": "stream",
     "text": [
      "RMSE: 1.1052\n"
     ]
    },
    {
     "data": {
      "text/plain": [
       "1.1052331739323384"
      ]
     },
     "metadata": {},
     "output_type": "display_data"
    },
    {
     "data": {
      "text/plain": [
       "[Prediction(uid=899, iid=414, r_ui=2.0, est=3.862925277607394, details={'was_impossible': False}),\n",
       " Prediction(uid=721, iid=299, r_ui=3.0, est=2.8468461331986687, details={'was_impossible': False}),\n",
       " Prediction(uid=796, iid=826, r_ui=2.0, est=3.168556792212676, details={'was_impossible': False})]"
      ]
     },
     "metadata": {},
     "output_type": "display_data"
    },
    {
     "data": {
      "text/plain": [
       "Prediction(uid=899, iid=414, r_ui=None, est=3.862925277607394, details={'was_impossible': False})"
      ]
     },
     "execution_count": 35,
     "metadata": {},
     "output_type": "execute_result"
    }
   ],
   "source": [
    "from surprise import NMF\n",
    "\n",
    "model = NMF(n_factors=20, n_epochs=20)\n",
    "model.fit(train)\n",
    "\n",
    "preds = model.test(test)\n",
    "display(surprise.accuracy.rmse(preds))\n",
    "display(preds[:3])\n",
    "\n",
    "# (uid, iid)\n",
    "model.predict(899, 414)"
   ]
  },
  {
   "cell_type": "markdown",
   "metadata": {},
   "source": [
    "## Simple Collaboration Filtering"
   ]
  },
  {
   "cell_type": "code",
   "execution_count": 36,
   "metadata": {},
   "outputs": [
    {
     "name": "stdout",
     "output_type": "stream",
     "text": [
      "RMSE: 0.9474\n"
     ]
    },
    {
     "data": {
      "text/plain": [
       "0.9474056158487151"
      ]
     },
     "metadata": {},
     "output_type": "display_data"
    },
    {
     "data": {
      "text/plain": [
       "[Prediction(uid=899, iid=414, r_ui=2.0, est=3.346051394500792, details={'was_impossible': False}),\n",
       " Prediction(uid=721, iid=299, r_ui=3.0, est=2.738100757521191, details={'was_impossible': False}),\n",
       " Prediction(uid=796, iid=826, r_ui=2.0, est=2.8599386582729753, details={'was_impossible': False})]"
      ]
     },
     "metadata": {},
     "output_type": "display_data"
    },
    {
     "data": {
      "text/plain": [
       "Prediction(uid=899, iid=414, r_ui=None, est=3.346051394500792, details={'was_impossible': False})"
      ]
     },
     "execution_count": 36,
     "metadata": {},
     "output_type": "execute_result"
    }
   ],
   "source": [
    "from surprise import SlopeOne\n",
    "\n",
    "model = SlopeOne()\n",
    "model.fit(train)\n",
    "\n",
    "preds = model.test(test)\n",
    "display(surprise.accuracy.rmse(preds))\n",
    "display(preds[:3])\n",
    "\n",
    "# (uid, iid)\n",
    "model.predict(899, 414)"
   ]
  },
  {
   "cell_type": "markdown",
   "metadata": {},
   "source": [
    "## Co-clustering Collaboration filtering"
   ]
  },
  {
   "cell_type": "code",
   "execution_count": 37,
   "metadata": {},
   "outputs": [
    {
     "name": "stdout",
     "output_type": "stream",
     "text": [
      "RMSE: 0.9923\n"
     ]
    },
    {
     "data": {
      "text/plain": [
       "0.9923024156568413"
      ]
     },
     "metadata": {},
     "output_type": "display_data"
    },
    {
     "data": {
      "text/plain": [
       "[Prediction(uid=899, iid=414, r_ui=2.0, est=3.6671790923516627, details={'was_impossible': False}),\n",
       " Prediction(uid=721, iid=299, r_ui=3.0, est=2.8545283238470986, details={'was_impossible': False}),\n",
       " Prediction(uid=796, iid=826, r_ui=2.0, est=2.3026791199076917, details={'was_impossible': False})]"
      ]
     },
     "metadata": {},
     "output_type": "display_data"
    },
    {
     "data": {
      "text/plain": [
       "Prediction(uid=899, iid=414, r_ui=None, est=3.6671790923516627, details={'was_impossible': False})"
      ]
     },
     "execution_count": 37,
     "metadata": {},
     "output_type": "execute_result"
    }
   ],
   "source": [
    "from surprise import CoClustering\n",
    "\n",
    "model = CoClustering(n_cltr_u=5, n_cltr_i=10)\n",
    "model.fit(train)\n",
    "\n",
    "preds = model.test(test)\n",
    "display(surprise.accuracy.rmse(preds))\n",
    "display(preds[:3])\n",
    "\n",
    "# (uid, iid)\n",
    "model.predict(899, 414)"
   ]
  },
  {
   "cell_type": "markdown",
   "metadata": {},
   "source": [
    "同じデータで比較したところ、svdpp の rmse が一番小さくてよい。"
   ]
  },
  {
   "cell_type": "code",
   "execution_count": 42,
   "metadata": {},
   "outputs": [
    {
     "data": {
      "text/plain": [
       "3.6671790923516627"
      ]
     },
     "execution_count": 42,
     "metadata": {},
     "output_type": "execute_result"
    }
   ],
   "source": [
    "model.predict(899, 414)"
   ]
  },
  {
   "cell_type": "code",
   "execution_count": null,
   "metadata": {},
   "outputs": [],
   "source": []
  }
 ],
 "metadata": {
  "kernelspec": {
   "display_name": "Python 3",
   "language": "python",
   "name": "python3"
  },
  "language_info": {
   "codemirror_mode": {
    "name": "ipython",
    "version": 3
   },
   "file_extension": ".py",
   "mimetype": "text/x-python",
   "name": "python",
   "nbconvert_exporter": "python",
   "pygments_lexer": "ipython3",
   "version": "3.7.0"
  }
 },
 "nbformat": 4,
 "nbformat_minor": 2
}
