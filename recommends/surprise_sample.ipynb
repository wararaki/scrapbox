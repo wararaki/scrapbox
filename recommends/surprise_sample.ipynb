{
 "cells": [
  {
   "cell_type": "code",
   "execution_count": 1,
   "metadata": {},
   "outputs": [],
   "source": [
    "from surprise import SVD\n",
    "from surprise import Dataset\n",
    "from surprise.model_selection import cross_validate"
   ]
  },
  {
   "cell_type": "code",
   "execution_count": 2,
   "metadata": {},
   "outputs": [
    {
     "name": "stdout",
     "output_type": "stream",
     "text": [
      "Dataset ml-100k could not be found. Do you want to download it? [Y/n] Trying to download dataset from http://files.grouplens.org/datasets/movielens/ml-100k.zip...\n",
      "Done! Dataset ml-100k has been saved to /Users/wararaki/.surprise_data/ml-100k\n"
     ]
    }
   ],
   "source": [
    "data = Dataset.load_builtin('ml-100k')"
   ]
  },
  {
   "cell_type": "code",
   "execution_count": 7,
   "metadata": {},
   "outputs": [],
   "source": [
    "alog = SVD()"
   ]
  },
  {
   "cell_type": "code",
   "execution_count": 8,
   "metadata": {},
   "outputs": [
    {
     "name": "stdout",
     "output_type": "stream",
     "text": [
      "Evaluating RMSE, MAE of algorithm SVD on 5 split(s).\n",
      "\n",
      "                  Fold 1  Fold 2  Fold 3  Fold 4  Fold 5  Mean    Std     \n",
      "RMSE (testset)    0.9273  0.9449  0.9289  0.9373  0.9361  0.9349  0.0063  \n",
      "MAE (testset)     0.7310  0.7445  0.7303  0.7396  0.7381  0.7367  0.0054  \n",
      "Fit time          5.17    4.99    5.00    4.94    5.30    5.08    0.13    \n",
      "Test time         0.20    0.16    0.20    0.15    0.21    0.19    0.02    \n"
     ]
    },
    {
     "data": {
      "text/plain": [
       "{'fit_time': (5.171372890472412,\n",
       "  4.9902777671813965,\n",
       "  5.000467777252197,\n",
       "  4.94395899772644,\n",
       "  5.296567678451538),\n",
       " 'test_mae': array([0.73101045, 0.74445599, 0.73025651, 0.7396264 , 0.73809973]),\n",
       " 'test_rmse': array([0.92731326, 0.94493574, 0.9289404 , 0.93725606, 0.93611855]),\n",
       " 'test_time': (0.20061326026916504,\n",
       "  0.16407108306884766,\n",
       "  0.1984407901763916,\n",
       "  0.15035486221313477,\n",
       "  0.21453499794006348)}"
      ]
     },
     "execution_count": 8,
     "metadata": {},
     "output_type": "execute_result"
    }
   ],
   "source": [
    "cross_validate(alog, data, measures=['RMSE', 'MAE'], cv=5, verbose=True)"
   ]
  },
  {
   "cell_type": "code",
   "execution_count": null,
   "metadata": {},
   "outputs": [],
   "source": []
  }
 ],
 "metadata": {
  "kernelspec": {
   "display_name": "Python 3",
   "language": "python",
   "name": "python3"
  },
  "language_info": {
   "codemirror_mode": {
    "name": "ipython",
    "version": 3
   },
   "file_extension": ".py",
   "mimetype": "text/x-python",
   "name": "python",
   "nbconvert_exporter": "python",
   "pygments_lexer": "ipython3",
   "version": "3.6.3"
  }
 },
 "nbformat": 4,
 "nbformat_minor": 2
}
