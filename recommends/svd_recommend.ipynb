{
 "cells": [
  {
   "cell_type": "code",
   "execution_count": 1,
   "metadata": {},
   "outputs": [],
   "source": [
    "import os\n",
    "import pandas as pd\n",
    "import numpy as np"
   ]
  },
  {
   "cell_type": "code",
   "execution_count": 5,
   "metadata": {},
   "outputs": [
    {
     "data": {
      "text/plain": [
       "['links.csv', 'tags.csv', 'ratings.csv', 'README.txt', 'movies.csv']"
      ]
     },
     "execution_count": 5,
     "metadata": {},
     "output_type": "execute_result"
    }
   ],
   "source": [
    "os.listdir('./ml-latest-small/')"
   ]
  },
  {
   "cell_type": "code",
   "execution_count": 7,
   "metadata": {},
   "outputs": [
    {
     "data": {
      "text/plain": [
       "(100836, 4)"
      ]
     },
     "metadata": {},
     "output_type": "display_data"
    },
    {
     "data": {
      "text/html": [
       "<div>\n",
       "<style scoped>\n",
       "    .dataframe tbody tr th:only-of-type {\n",
       "        vertical-align: middle;\n",
       "    }\n",
       "\n",
       "    .dataframe tbody tr th {\n",
       "        vertical-align: top;\n",
       "    }\n",
       "\n",
       "    .dataframe thead th {\n",
       "        text-align: right;\n",
       "    }\n",
       "</style>\n",
       "<table border=\"1\" class=\"dataframe\">\n",
       "  <thead>\n",
       "    <tr style=\"text-align: right;\">\n",
       "      <th></th>\n",
       "      <th>userId</th>\n",
       "      <th>movieId</th>\n",
       "      <th>rating</th>\n",
       "      <th>timestamp</th>\n",
       "    </tr>\n",
       "  </thead>\n",
       "  <tbody>\n",
       "    <tr>\n",
       "      <th>0</th>\n",
       "      <td>1</td>\n",
       "      <td>1</td>\n",
       "      <td>4.0</td>\n",
       "      <td>964982703</td>\n",
       "    </tr>\n",
       "    <tr>\n",
       "      <th>1</th>\n",
       "      <td>1</td>\n",
       "      <td>3</td>\n",
       "      <td>4.0</td>\n",
       "      <td>964981247</td>\n",
       "    </tr>\n",
       "    <tr>\n",
       "      <th>2</th>\n",
       "      <td>1</td>\n",
       "      <td>6</td>\n",
       "      <td>4.0</td>\n",
       "      <td>964982224</td>\n",
       "    </tr>\n",
       "  </tbody>\n",
       "</table>\n",
       "</div>"
      ],
      "text/plain": [
       "   userId  movieId  rating  timestamp\n",
       "0       1        1     4.0  964982703\n",
       "1       1        3     4.0  964981247\n",
       "2       1        6     4.0  964982224"
      ]
     },
     "execution_count": 7,
     "metadata": {},
     "output_type": "execute_result"
    }
   ],
   "source": [
    "rate_df = pd.read_csv('./ml-latest-small/ratings.csv')\n",
    "display(rate_df.shape)\n",
    "rate_df.head(3)"
   ]
  },
  {
   "cell_type": "code",
   "execution_count": 9,
   "metadata": {},
   "outputs": [
    {
     "data": {
      "text/plain": [
       "'rating_matrix.shape: (9724, 610)'"
      ]
     },
     "metadata": {},
     "output_type": "display_data"
    }
   ],
   "source": [
    "rate_matrix = rate_df.pivot(index='movieId', columns='userId', values='rating').fillna(0).as_matrix()\n",
    "display(f'rating_matrix.shape: {rate_matrix.shape}')"
   ]
  },
  {
   "cell_type": "code",
   "execution_count": 38,
   "metadata": {},
   "outputs": [],
   "source": [
    "movie_df = pd.read_csv('./ml-latest-small/movies.csv')\n",
    "movies = movie_df['title'].tolist()"
   ]
  },
  {
   "cell_type": "code",
   "execution_count": 17,
   "metadata": {},
   "outputs": [],
   "source": [
    "# df_index = ['movie_{0:04d}'.format(i) for i in range(rate_matrix.shape[0])]\n",
    "# df_cols = ['user_{0:04d}'.format(i) for i in range(rate_matrix.shape[1])]\n",
    "# pd.DataFrame(rate_matrix, index=df_index, columns=df_cols)"
   ]
  },
  {
   "cell_type": "code",
   "execution_count": 32,
   "metadata": {},
   "outputs": [],
   "source": [
    "def reduct_matrix(matrix, k):\n",
    "    u, s, v = np.linalg.svd(matrix, full_matrices=False)\n",
    "    s_k = np.array(s)\n",
    "    s_k[k:] = 0\n",
    "    sigma_k = np.diag(s_k)\n",
    "    \n",
    "    return np.dot(u, np.dot(sigma_k, v))"
   ]
  },
  {
   "cell_type": "code",
   "execution_count": 33,
   "metadata": {},
   "outputs": [],
   "source": [
    "def predict_ranking(user_index, reducted_matrix, original_matrix, n):\n",
    "    reducted_vector = reducted_matrix[:, user_index]\n",
    "    \n",
    "    # 評価済みのデータは 0 にする。\n",
    "    filter_vector = original_matrix[:, user_index] == 0\n",
    "    predicted_vector = reducted_vector * filter_vector\n",
    "    \n",
    "    # 上位 n 個のアイテムのインデックスを返す\n",
    "    recommends = [(i, predicted_vector[i]) for i in np.argsort(predicted_vector)[::-1][:n]]\n",
    "    return recommends"
   ]
  },
  {
   "cell_type": "code",
   "execution_count": 41,
   "metadata": {},
   "outputs": [],
   "source": [
    "reducted_matrix = reduct_matrix(rate_matrix, k=30)"
   ]
  },
  {
   "cell_type": "code",
   "execution_count": 48,
   "metadata": {},
   "outputs": [],
   "source": [
    "def print_ranking(user_ids, items):\n",
    "    for user_id in user_ids:\n",
    "        predicted_ranking = predict_ranking(user_id - 1, reducted_matrix, rate_matrix, 10)\n",
    "        print('User: {}:'.format(user_id))\n",
    "        for item_id, rating in predicted_ranking:\n",
    "            # アイテムID, 映画タイトル, 予測した評価値を表示\n",
    "            print('{}: {} [{}]'.format(item_id, items[item_id + 1], rating))\n",
    "        print('')"
   ]
  },
  {
   "cell_type": "code",
   "execution_count": 49,
   "metadata": {},
   "outputs": [
    {
     "name": "stdout",
     "output_type": "stream",
     "text": [
      "User: 400:\n",
      "461: Scout, The (1994) [2.534556306096043]\n",
      "1502: Saving Private Ryan (1998) [2.387344773696831]\n",
      "97: Taxi Driver (1976) [2.2636905781779193]\n",
      "1733: American History X (1998) [2.2489795204726066]\n",
      "2144: American Beauty (1999) [2.1546564104536525]\n",
      "4131: Star Trek: Nemesis (2002) [2.136197586781076]\n",
      "827: Reservoir Dogs (1992) [1.9946926027305791]\n",
      "3136: Necessary Roughness (1991) [1.8029526535437104]\n",
      "6993: Kung Fu Panda: Secrets of the Furious Five (2008) [1.6700890800050265]\n",
      "0: Jumanji (1995) [1.5655712300155695]\n",
      "\n",
      "User: 500:\n",
      "1153: Austin Powers: International Man of Mystery (1997) [1.2566853628570607]\n",
      "32: Dead Man Walking (1995) [1.2409056758944261]\n",
      "862: Monty Python and the Holy Grail (1975) [1.2033834851598724]\n",
      "898: Princess Bride, The (1987) [1.1742054399447457]\n",
      "1796: Shakespeare in Love (1998) [1.168476503720313]\n",
      "2194: Ferris Bueller's Day Off (1986) [1.164134077469736]\n",
      "1938: Matrix, The (1999) [1.1163722231253959]\n",
      "1882: Office Space (1999) [1.0818277003025896]\n",
      "436: Naked (1993) [1.0528354461551892]\n",
      "1627: Beetlejuice (1988) [1.0445231232195162]\n",
      "\n"
     ]
    }
   ],
   "source": [
    "print_ranking([400, 500], movies)"
   ]
  },
  {
   "cell_type": "code",
   "execution_count": null,
   "metadata": {},
   "outputs": [],
   "source": []
  }
 ],
 "metadata": {
  "kernelspec": {
   "display_name": "Python 3",
   "language": "python",
   "name": "python3"
  },
  "language_info": {
   "codemirror_mode": {
    "name": "ipython",
    "version": 3
   },
   "file_extension": ".py",
   "mimetype": "text/x-python",
   "name": "python",
   "nbconvert_exporter": "python",
   "pygments_lexer": "ipython3",
   "version": "3.6.3"
  }
 },
 "nbformat": 4,
 "nbformat_minor": 2
}
