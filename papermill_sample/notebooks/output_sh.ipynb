{
 "cells": [
  {
   "cell_type": "code",
   "execution_count": 1,
   "metadata": {
    "papermill": {
     "duration": 0.012721,
     "end_time": "2018-10-09T17:31:41.876022",
     "exception": false,
     "start_time": "2018-10-09T17:31:41.863301",
     "status": "completed"
    },
    "tags": [
     "injected-parameters"
    ]
   },
   "outputs": [],
   "source": [
    "# Parameters\n",
    "alpha = 100\n",
    "beta = 200\n"
   ]
  },
  {
   "cell_type": "code",
   "execution_count": 2,
   "metadata": {
    "papermill": {
     "duration": 0.00726,
     "end_time": "2018-10-09T17:31:41.885242",
     "exception": false,
     "start_time": "2018-10-09T17:31:41.877982",
     "status": "completed"
    },
    "tags": []
   },
   "outputs": [
    {
     "name": "stdout",
     "output_type": "stream",
     "text": [
      "100\n",
      "200\n"
     ]
    }
   ],
   "source": [
    "print(alpha)\n",
    "print(beta)"
   ]
  },
  {
   "cell_type": "code",
   "execution_count": null,
   "metadata": {
    "papermill": {
     "duration": 5e-06,
     "end_time": "2018-10-09T17:31:41.885313",
     "exception": null,
     "start_time": "2018-10-09T17:31:41.885308",
     "status": "completed"
    },
    "tags": []
   },
   "outputs": [],
   "source": []
  }
 ],
 "metadata": {
  "kernelspec": {
   "display_name": "Python 3",
   "language": "python",
   "name": "python3"
  },
  "language_info": {
   "codemirror_mode": {
    "name": "ipython",
    "version": 3
   },
   "file_extension": ".py",
   "mimetype": "text/x-python",
   "name": "python",
   "nbconvert_exporter": "python",
   "pygments_lexer": "ipython3",
   "version": "3.6.3"
  },
  "papermill": {
   "duration": 1.251493,
   "end_time": "2018-10-09T17:31:42.258145",
   "environment_variables": {},
   "exception": false,
   "output_path": "notebooks/output_sh.ipynb",
   "parameters": {
    "alpha": 100,
    "beta": 200
   },
   "start_time": "2018-10-09T17:31:41.006652",
   "version": "0.15.1"
  }
 },
 "nbformat": 4,
 "nbformat_minor": 2
}