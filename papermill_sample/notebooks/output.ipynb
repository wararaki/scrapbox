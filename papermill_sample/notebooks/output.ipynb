{
 "cells": [
  {
   "cell_type": "code",
   "execution_count": 1,
   "metadata": {
    "papermill": {
     "duration": 0.021512,
     "end_time": "2018-10-09T17:31:04.114527",
     "exception": false,
     "start_time": "2018-10-09T17:31:04.093015",
     "status": "completed"
    },
    "tags": [
     "injected-parameters"
    ]
   },
   "outputs": [],
   "source": [
    "# Parameters\n",
    "alpha = 10\n",
    "beta = 20\n"
   ]
  },
  {
   "cell_type": "code",
   "execution_count": 2,
   "metadata": {
    "papermill": {
     "duration": 0.009089,
     "end_time": "2018-10-09T17:31:04.124034",
     "exception": false,
     "start_time": "2018-10-09T17:31:04.114945",
     "status": "completed"
    },
    "tags": []
   },
   "outputs": [
    {
     "name": "stdout",
     "output_type": "stream",
     "text": [
      "10\n",
      "20\n"
     ]
    }
   ],
   "source": [
    "print(alpha)\n",
    "print(beta)"
   ]
  },
  {
   "cell_type": "code",
   "execution_count": null,
   "metadata": {
    "papermill": {
     "duration": 6e-06,
     "end_time": "2018-10-09T17:31:04.124212",
     "exception": null,
     "start_time": "2018-10-09T17:31:04.124206",
     "status": "completed"
    },
    "tags": []
   },
   "outputs": [],
   "source": []
  }
 ],
 "metadata": {
  "kernelspec": {
   "display_name": "Python 3",
   "language": "python",
   "name": "python3"
  },
  "language_info": {
   "codemirror_mode": {
    "name": "ipython",
    "version": 3
   },
   "file_extension": ".py",
   "mimetype": "text/x-python",
   "name": "python",
   "nbconvert_exporter": "python",
   "pygments_lexer": "ipython3",
   "version": "3.6.3"
  },
  "papermill": {
   "duration": 1.36757,
   "end_time": "2018-10-09T17:31:04.545102",
   "environment_variables": {},
   "exception": false,
   "output_path": "notebooks/output.ipynb",
   "parameters": {
    "alpha": 10,
    "beta": 20
   },
   "start_time": "2018-10-09T17:31:03.177532",
   "version": "0.15.1"
  }
 },
 "nbformat": 4,
 "nbformat_minor": 2
}