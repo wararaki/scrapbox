{
 "cells": [
  {
   "cell_type": "code",
   "execution_count": 19,
   "metadata": {},
   "outputs": [],
   "source": [
    "from sklearn import datasets\n",
    "from sklearn.model_selection import train_test_split\n",
    "import xgboost as xgb\n",
    "\n",
    "%matplotlib inline"
   ]
  },
  {
   "cell_type": "code",
   "execution_count": 56,
   "metadata": {},
   "outputs": [
    {
     "data": {
      "text/plain": [
       "(506, 13)"
      ]
     },
     "execution_count": 56,
     "metadata": {},
     "output_type": "execute_result"
    }
   ],
   "source": [
    "boston = datasets.load_boston()\n",
    "boston.data.shape"
   ]
  },
  {
   "cell_type": "code",
   "execution_count": 3,
   "metadata": {},
   "outputs": [
    {
     "data": {
      "text/plain": [
       "dict_keys(['data', 'target', 'feature_names', 'DESCR'])"
      ]
     },
     "execution_count": 3,
     "metadata": {},
     "output_type": "execute_result"
    }
   ],
   "source": [
    "boston.keys()"
   ]
  },
  {
   "cell_type": "code",
   "execution_count": 58,
   "metadata": {},
   "outputs": [
    {
     "data": {
      "text/plain": [
       "array(['CRIM', 'ZN', 'INDUS', 'CHAS', 'NOX', 'RM', 'AGE', 'DIS', 'RAD',\n",
       "       'TAX', 'PTRATIO', 'B', 'LSTAT'], dtype='<U7')"
      ]
     },
     "execution_count": 58,
     "metadata": {},
     "output_type": "execute_result"
    }
   ],
   "source": [
    "boston.feature_names"
   ]
  },
  {
   "cell_type": "code",
   "execution_count": 48,
   "metadata": {},
   "outputs": [],
   "source": [
    "x_train, x_test, y_train, y_test = train_test_split(boston.data, boston.target, test_size=0.1)"
   ]
  },
  {
   "cell_type": "code",
   "execution_count": 49,
   "metadata": {},
   "outputs": [],
   "source": [
    "dm_train = xgb.DMatrix(x_train, label=y_train, feature_names=boston.feature_names)\n",
    "dm_test = xgb.DMatrix(x_test, label=y_test, feature_names=boston.feature_names)\n",
    "dm_all = xgb.DMatrix(boston.data, label=boston.target)"
   ]
  },
  {
   "cell_type": "code",
   "execution_count": 50,
   "metadata": {},
   "outputs": [],
   "source": [
    "params = {'max_depth':2, 'eta':1, 'silent':1}"
   ]
  },
  {
   "cell_type": "code",
   "execution_count": 53,
   "metadata": {},
   "outputs": [
    {
     "data": {
      "text/html": [
       "<div>\n",
       "<style scoped>\n",
       "    .dataframe tbody tr th:only-of-type {\n",
       "        vertical-align: middle;\n",
       "    }\n",
       "\n",
       "    .dataframe tbody tr th {\n",
       "        vertical-align: top;\n",
       "    }\n",
       "\n",
       "    .dataframe thead th {\n",
       "        text-align: right;\n",
       "    }\n",
       "</style>\n",
       "<table border=\"1\" class=\"dataframe\">\n",
       "  <thead>\n",
       "    <tr style=\"text-align: right;\">\n",
       "      <th></th>\n",
       "      <th>train-rmse-mean</th>\n",
       "      <th>train-rmse-std</th>\n",
       "      <th>test-rmse-mean</th>\n",
       "      <th>test-rmse-std</th>\n",
       "    </tr>\n",
       "  </thead>\n",
       "  <tbody>\n",
       "    <tr>\n",
       "      <th>0</th>\n",
       "      <td>5.016832</td>\n",
       "      <td>0.108346</td>\n",
       "      <td>5.687382</td>\n",
       "      <td>0.606549</td>\n",
       "    </tr>\n",
       "    <tr>\n",
       "      <th>1</th>\n",
       "      <td>4.266937</td>\n",
       "      <td>0.160774</td>\n",
       "      <td>5.568742</td>\n",
       "      <td>0.905992</td>\n",
       "    </tr>\n",
       "    <tr>\n",
       "      <th>2</th>\n",
       "      <td>3.933112</td>\n",
       "      <td>0.186075</td>\n",
       "      <td>5.326640</td>\n",
       "      <td>0.896344</td>\n",
       "    </tr>\n",
       "    <tr>\n",
       "      <th>3</th>\n",
       "      <td>3.632758</td>\n",
       "      <td>0.208600</td>\n",
       "      <td>5.248463</td>\n",
       "      <td>0.966865</td>\n",
       "    </tr>\n",
       "    <tr>\n",
       "      <th>4</th>\n",
       "      <td>3.404093</td>\n",
       "      <td>0.202455</td>\n",
       "      <td>5.133123</td>\n",
       "      <td>0.961306</td>\n",
       "    </tr>\n",
       "    <tr>\n",
       "      <th>5</th>\n",
       "      <td>3.178625</td>\n",
       "      <td>0.179351</td>\n",
       "      <td>5.106645</td>\n",
       "      <td>1.096102</td>\n",
       "    </tr>\n",
       "    <tr>\n",
       "      <th>6</th>\n",
       "      <td>3.018924</td>\n",
       "      <td>0.177448</td>\n",
       "      <td>5.011721</td>\n",
       "      <td>1.137643</td>\n",
       "    </tr>\n",
       "    <tr>\n",
       "      <th>7</th>\n",
       "      <td>2.864581</td>\n",
       "      <td>0.154204</td>\n",
       "      <td>4.861236</td>\n",
       "      <td>1.220163</td>\n",
       "    </tr>\n",
       "    <tr>\n",
       "      <th>8</th>\n",
       "      <td>2.748366</td>\n",
       "      <td>0.145339</td>\n",
       "      <td>4.809740</td>\n",
       "      <td>1.177875</td>\n",
       "    </tr>\n",
       "    <tr>\n",
       "      <th>9</th>\n",
       "      <td>2.651065</td>\n",
       "      <td>0.144020</td>\n",
       "      <td>4.669718</td>\n",
       "      <td>1.065264</td>\n",
       "    </tr>\n",
       "    <tr>\n",
       "      <th>10</th>\n",
       "      <td>2.570390</td>\n",
       "      <td>0.145211</td>\n",
       "      <td>4.640338</td>\n",
       "      <td>1.114964</td>\n",
       "    </tr>\n",
       "    <tr>\n",
       "      <th>11</th>\n",
       "      <td>2.488355</td>\n",
       "      <td>0.140724</td>\n",
       "      <td>4.577788</td>\n",
       "      <td>1.173964</td>\n",
       "    </tr>\n",
       "    <tr>\n",
       "      <th>12</th>\n",
       "      <td>2.415412</td>\n",
       "      <td>0.132567</td>\n",
       "      <td>4.576164</td>\n",
       "      <td>1.148662</td>\n",
       "    </tr>\n",
       "    <tr>\n",
       "      <th>13</th>\n",
       "      <td>2.354504</td>\n",
       "      <td>0.127989</td>\n",
       "      <td>4.555835</td>\n",
       "      <td>1.165863</td>\n",
       "    </tr>\n",
       "    <tr>\n",
       "      <th>14</th>\n",
       "      <td>2.282964</td>\n",
       "      <td>0.111816</td>\n",
       "      <td>4.512832</td>\n",
       "      <td>1.207259</td>\n",
       "    </tr>\n",
       "    <tr>\n",
       "      <th>15</th>\n",
       "      <td>2.227698</td>\n",
       "      <td>0.109958</td>\n",
       "      <td>4.475397</td>\n",
       "      <td>1.279205</td>\n",
       "    </tr>\n",
       "    <tr>\n",
       "      <th>16</th>\n",
       "      <td>2.175191</td>\n",
       "      <td>0.114516</td>\n",
       "      <td>4.428123</td>\n",
       "      <td>1.270902</td>\n",
       "    </tr>\n",
       "    <tr>\n",
       "      <th>17</th>\n",
       "      <td>2.131802</td>\n",
       "      <td>0.113383</td>\n",
       "      <td>4.424852</td>\n",
       "      <td>1.273302</td>\n",
       "    </tr>\n",
       "    <tr>\n",
       "      <th>18</th>\n",
       "      <td>2.082055</td>\n",
       "      <td>0.117481</td>\n",
       "      <td>4.406115</td>\n",
       "      <td>1.294796</td>\n",
       "    </tr>\n",
       "    <tr>\n",
       "      <th>19</th>\n",
       "      <td>2.046433</td>\n",
       "      <td>0.110323</td>\n",
       "      <td>4.337611</td>\n",
       "      <td>1.324424</td>\n",
       "    </tr>\n",
       "  </tbody>\n",
       "</table>\n",
       "</div>"
      ],
      "text/plain": [
       "    train-rmse-mean  train-rmse-std  test-rmse-mean  test-rmse-std\n",
       "0          5.016832        0.108346        5.687382       0.606549\n",
       "1          4.266937        0.160774        5.568742       0.905992\n",
       "2          3.933112        0.186075        5.326640       0.896344\n",
       "3          3.632758        0.208600        5.248463       0.966865\n",
       "4          3.404093        0.202455        5.133123       0.961306\n",
       "5          3.178625        0.179351        5.106645       1.096102\n",
       "6          3.018924        0.177448        5.011721       1.137643\n",
       "7          2.864581        0.154204        4.861236       1.220163\n",
       "8          2.748366        0.145339        4.809740       1.177875\n",
       "9          2.651065        0.144020        4.669718       1.065264\n",
       "10         2.570390        0.145211        4.640338       1.114964\n",
       "11         2.488355        0.140724        4.577788       1.173964\n",
       "12         2.415412        0.132567        4.576164       1.148662\n",
       "13         2.354504        0.127989        4.555835       1.165863\n",
       "14         2.282964        0.111816        4.512832       1.207259\n",
       "15         2.227698        0.109958        4.475397       1.279205\n",
       "16         2.175191        0.114516        4.428123       1.270902\n",
       "17         2.131802        0.113383        4.424852       1.273302\n",
       "18         2.082055        0.117481        4.406115       1.294796\n",
       "19         2.046433        0.110323        4.337611       1.324424"
      ]
     },
     "execution_count": 53,
     "metadata": {},
     "output_type": "execute_result"
    }
   ],
   "source": [
    "xgb.cv(params, dm_all, nfold=10, num_boost_round=20)"
   ]
  },
  {
   "cell_type": "code",
   "execution_count": 74,
   "metadata": {},
   "outputs": [
    {
     "name": "stdout",
     "output_type": "stream",
     "text": [
      "[0]\ttrain-rmse:5.0339\ttest-rmse:7.35861\n",
      "[1]\ttrain-rmse:4.35272\ttest-rmse:7.81306\n",
      "[2]\ttrain-rmse:4.0227\ttest-rmse:7.26551\n",
      "[3]\ttrain-rmse:3.77298\ttest-rmse:6.26963\n",
      "[4]\ttrain-rmse:3.37565\ttest-rmse:6.16297\n",
      "[5]\ttrain-rmse:3.16388\ttest-rmse:6.51111\n",
      "[6]\ttrain-rmse:3.03517\ttest-rmse:6.47379\n",
      "[7]\ttrain-rmse:2.81629\ttest-rmse:6.16311\n",
      "[8]\ttrain-rmse:2.70514\ttest-rmse:6.11668\n",
      "[9]\ttrain-rmse:2.54936\ttest-rmse:5.78015\n",
      "[10]\ttrain-rmse:2.46409\ttest-rmse:5.86044\n",
      "[11]\ttrain-rmse:2.38159\ttest-rmse:5.92282\n",
      "[12]\ttrain-rmse:2.33529\ttest-rmse:5.94759\n",
      "[13]\ttrain-rmse:2.258\ttest-rmse:5.87949\n",
      "[14]\ttrain-rmse:2.20279\ttest-rmse:5.82134\n",
      "[15]\ttrain-rmse:2.16787\ttest-rmse:5.8451\n",
      "[16]\ttrain-rmse:2.10438\ttest-rmse:5.83845\n",
      "[17]\ttrain-rmse:2.07597\ttest-rmse:5.83323\n",
      "[18]\ttrain-rmse:2.03298\ttest-rmse:5.84822\n",
      "[19]\ttrain-rmse:1.99505\ttest-rmse:5.80941\n"
     ]
    }
   ],
   "source": [
    "bst = xgb.train(params, dm_train, evals=[(dm_train, 'train'), (dm_test, 'test')], num_boost_round=20)"
   ]
  },
  {
   "cell_type": "code",
   "execution_count": 76,
   "metadata": {},
   "outputs": [
    {
     "data": {
      "text/plain": [
       "<matplotlib.axes._subplots.AxesSubplot at 0x116c83f60>"
      ]
     },
     "execution_count": 76,
     "metadata": {},
     "output_type": "execute_result"
    },
    {
     "data": {
      "image/png": "[encoded data removed]",
      "text/plain": [
       "<Figure size 432x288 with 1 Axes>"
      ]
     },
     "metadata": {},
     "output_type": "display_data"
    }
   ],
   "source": [
    "xgb.plot_importance(bst)"
   ]
  },
  {
   "cell_type": "code",
   "execution_count": 77,
   "metadata": {},
   "outputs": [],
   "source": [
    "bst.save_model('sample.xgb')"
   ]
  },
  {
   "cell_type": "code",
   "execution_count": 78,
   "metadata": {},
   "outputs": [],
   "source": [
    "bst = xgb.Booster()\n",
    "bst.load_model('sample.xgb')"
   ]
  },
  {
   "cell_type": "code",
   "execution_count": 79,
   "metadata": {},
   "outputs": [
    {
     "data": {
      "text/plain": [
       "<matplotlib.axes._subplots.AxesSubplot at 0x116b70c18>"
      ]
     },
     "execution_count": 79,
     "metadata": {},
     "output_type": "execute_result"
    },
    {
     "data": {
      "image/png": "[encoded data removed]",
      "text/plain": [
       "<Figure size 432x288 with 1 Axes>"
      ]
     },
     "metadata": {},
     "output_type": "display_data"
    }
   ],
   "source": [
    "xgb.plot_importance(bst)"
   ]
  },
  {
   "cell_type": "code",
   "execution_count": null,
   "metadata": {},
   "outputs": [],
   "source": []
  }
 ],
 "metadata": {
  "kernelspec": {
   "display_name": "Python 3",
   "language": "python",
   "name": "python3"
  },
  "language_info": {
   "codemirror_mode": {
    "name": "ipython",
    "version": 3
   },
   "file_extension": ".py",
   "mimetype": "text/x-python",
   "name": "python",
   "nbconvert_exporter": "python",
   "pygments_lexer": "ipython3",
   "version": "3.7.0"
  }
 },
 "nbformat": 4,
 "nbformat_minor": 2
}
