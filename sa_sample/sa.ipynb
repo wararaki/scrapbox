{
 "cells": [
  {
   "cell_type": "code",
   "execution_count": 23,
   "metadata": {},
   "outputs": [],
   "source": [
    "import math\n",
    "import random\n",
    "\n",
    "import matplotlib\n",
    "import matplotlib.pyplot as plt\n",
    "import numpy as np"
   ]
  },
  {
   "cell_type": "code",
   "execution_count": 18,
   "metadata": {},
   "outputs": [],
   "source": [
    "def f(x):\n",
    "    return 3*x**4 - 5*x**3 + 2*x**2"
   ]
  },
  {
   "cell_type": "code",
   "execution_count": 19,
   "metadata": {},
   "outputs": [],
   "source": [
    "X = np.linspace(-3, 3, 300)\n",
    "vec = np.vectorize(f)(X)"
   ]
  },
  {
   "cell_type": "code",
   "execution_count": 20,
   "metadata": {},
   "outputs": [
    {
     "data": {
      "text/plain": [
       "[<matplotlib.lines.Line2D at 0x109231518>]"
      ]
     },
     "execution_count": 20,
     "metadata": {},
     "output_type": "execute_result"
    },
    {
     "data": {
      "image/png": "[encoded data removed]",
      "text/plain": [
       "<matplotlib.figure.Figure at 0x1093a6550>"
      ]
     },
     "metadata": {},
     "output_type": "display_data"
    }
   ],
   "source": [
    "plt.plot(X, vec)"
   ]
  },
  {
   "cell_type": "code",
   "execution_count": 33,
   "metadata": {},
   "outputs": [],
   "source": [
    "def simulated_annealing(iteration=1000, temperature=0.97, step=0.01):\n",
    "    # init\n",
    "    x_better = random.uniform(-3, 3)\n",
    "    x_best = x_better\n",
    "    \n",
    "    n_simulation = 1\n",
    "    while temperature > 0.01:\n",
    "        # simulation\n",
    "        for i in range(iteration):\n",
    "            # get random x\n",
    "            if random.randint(0, 1) == 0:\n",
    "                x = x_better - step\n",
    "            else:\n",
    "                x = x_better + step\n",
    "            y_new = f(x)\n",
    "\n",
    "            # update state\n",
    "            delta = f(x_better) - y_new\n",
    "            if delta > 0.0:\n",
    "                x_better = x\n",
    "            elif math.exp(-delta/temperature) > random.random():\n",
    "                x_better = x\n",
    "\n",
    "            # evaluatation\n",
    "            if f(x_best) > f(x_better):\n",
    "                x_best = x_better\n",
    "\n",
    "\n",
    "        # update temperature\n",
    "        temperature *= temperature\n",
    "\n",
    "        print(f\"simulation {n_simulation}: f({x_best})={f(x_best)}\")\n",
    "        n_simulation += 1\n",
    "        \n",
    "    return x_best"
   ]
  },
  {
   "cell_type": "code",
   "execution_count": 34,
   "metadata": {},
   "outputs": [
    {
     "name": "stdout",
     "output_type": "stream",
     "text": [
      "simulation 1: f(-0.5409814284426522)=1.6338936040704026\n",
      "simulation 2: f(-0.12098142844265182)=0.03876942101557358\n",
      "simulation 3: f(-0.10098142844265183)=0.02585511323107812\n",
      "simulation 4: f(-0.07098142844265184)=0.011941032757213504\n",
      "simulation 5: f(-0.010981428442651835)=0.00024784851790794315\n",
      "simulation 6: f(-0.010981428442651835)=0.00024784851790794315\n",
      "simulation 7: f(-0.010981428442651835)=0.00024784851790794315\n",
      "simulation 8: f(-0.010981428442651835)=0.00024784851790794315\n",
      "best_x=-0.010981428442651835\n"
     ]
    }
   ],
   "source": [
    "result = simulated_annealing()\n",
    "print(f\"best_x={result}\")"
   ]
  },
  {
   "cell_type": "code",
   "execution_count": null,
   "metadata": {},
   "outputs": [],
   "source": []
  }
 ],
 "metadata": {
  "kernelspec": {
   "display_name": "Python 3",
   "language": "python",
   "name": "python3"
  },
  "language_info": {
   "codemirror_mode": {
    "name": "ipython",
    "version": 3
   },
   "file_extension": ".py",
   "mimetype": "text/x-python",
   "name": "python",
   "nbconvert_exporter": "python",
   "pygments_lexer": "ipython3",
   "version": "3.6.3"
  }
 },
 "nbformat": 4,
 "nbformat_minor": 2
}
