{
 "cells": [
  {
   "cell_type": "code",
   "execution_count": 95,
   "metadata": {},
   "outputs": [],
   "source": [
    "from scipy import sparse, spatial\n",
    "import numpy as np\n",
    "from collections import defaultdict\n",
    "import itertools"
   ]
  },
  {
   "cell_type": "code",
   "execution_count": 122,
   "metadata": {},
   "outputs": [],
   "source": [
    "n_item = 20\n",
    "n_user = 10\n",
    "item_user_matrix = np.random.randint(2, size=n_item*n_user).reshape((n_item, -1))\n",
    "item_user_matrix = sparse.lil_matrix(item_user)"
   ]
  },
  {
   "cell_type": "code",
   "execution_count": 123,
   "metadata": {},
   "outputs": [],
   "source": [
    "item_user_dict = defaultdict(set)\n",
    "for i, row in enumerate(item_user_matrix.rows):\n",
    "    item_user_dict[i] = set(row)\n",
    "item_user_matrix = item_user_matrix.tocsc()"
   ]
  },
  {
   "cell_type": "code",
   "execution_count": 124,
   "metadata": {},
   "outputs": [],
   "source": [
    "def get_jaccard(set_1, set_2):\n",
    "    n_union = len(set_1.union(set_2))\n",
    "    if n_union == 0:\n",
    "        return 0\n",
    "    return len(set_1.intersection(set_2)) / n_union"
   ]
  },
  {
   "cell_type": "code",
   "execution_count": 125,
   "metadata": {},
   "outputs": [],
   "source": [
    "jaccard_similarities = sparse.lil_matrix((n_item, n_item))\n",
    "for i, j in itertools.combinations(np.arange(n_item), 2):\n",
    "    jaccard_similarities[i, j] = get_jaccard(item_user_dict[i], item_user_dict[j])\n",
    "jaccard_similarites = jaccard_similarities.tocsc()"
   ]
  },
  {
   "cell_type": "code",
   "execution_count": 126,
   "metadata": {},
   "outputs": [
    {
     "data": {
      "text/plain": [
       "matrix([[4.79365079, 3.01944444, 3.28730159, 2.65833333, 3.125     ,\n",
       "         3.89642857, 4.48373016, 4.63293651, 2.3468254 , 4.70793651],\n",
       "        [5.0202381 , 4.00833333, 3.48412698, 2.75      , 2.2202381 ,\n",
       "         3.73214286, 5.32777778, 3.91666667, 2.24206349, 5.14920635],\n",
       "        [4.58928571, 3.04960317, 3.71428571, 2.23611111, 2.77579365,\n",
       "         3.23015873, 4.44444444, 4.18650794, 2.45039683, 4.79166667],\n",
       "        [4.47857143, 3.96428571, 3.47222222, 2.83571429, 1.88134921,\n",
       "         3.30992063, 4.73253968, 3.11349206, 2.38928571, 4.58373016],\n",
       "        [4.81111111, 3.        , 3.68690476, 2.44444444, 2.66865079,\n",
       "         3.6547619 , 4.49603175, 4.56746032, 2.425     , 4.9702381 ],\n",
       "        [3.64285714, 3.47619048, 3.52857143, 2.91666667, 2.26190476,\n",
       "         3.3452381 , 5.07619048, 3.76666667, 2.20238095, 4.70714286],\n",
       "        [4.28214286, 4.14285714, 3.49007937, 2.85357143, 2.0202381 ,\n",
       "         3.58373016, 5.26428571, 3.2702381 , 2.51031746, 4.6452381 ],\n",
       "        [3.98095238, 3.19642857, 3.96309524, 2.58928571, 2.44047619,\n",
       "         3.23690476, 5.01547619, 4.06428571, 2.06547619, 5.2297619 ],\n",
       "        [4.19444444, 3.0202381 , 3.05      , 2.71865079, 2.86507937,\n",
       "         3.9547619 , 4.46865079, 4.2797619 , 2.45277778, 4.49642857],\n",
       "        [4.99920635, 4.31190476, 3.49206349, 2.68253968, 2.28015873,\n",
       "         3.41468254, 5.51309524, 3.46111111, 2.2202381 , 5.06666667],\n",
       "        [4.70357143, 3.86111111, 4.33333333, 3.0547619 , 2.66388889,\n",
       "         4.1202381 , 6.04880952, 4.00912698, 2.46944444, 5.40793651],\n",
       "        [4.7547619 , 3.60198413, 3.70912698, 2.54365079, 2.83928571,\n",
       "         3.51388889, 4.98769841, 4.20119048, 2.22222222, 5.41626984],\n",
       "        [3.76587302, 2.73015873, 3.04563492, 3.0297619 , 2.59722222,\n",
       "         4.0297619 , 4.3015873 , 3.69047619, 2.02777778, 4.20238095],\n",
       "        [3.98095238, 3.14166667, 2.42261905, 2.24206349, 1.75198413,\n",
       "         3.09603175, 3.61904762, 2.60595238, 2.07738095, 3.19642857],\n",
       "        [5.18055556, 3.76388889, 4.21230159, 3.625     , 2.88888889,\n",
       "         4.33531746, 5.90674603, 4.66865079, 2.61111111, 5.79563492],\n",
       "        [4.35      , 3.06626984, 2.66865079, 2.37698413, 2.45833333,\n",
       "         3.45912698, 3.84722222, 3.18452381, 2.11984127, 3.88293651],\n",
       "        [4.78611111, 4.11111111, 4.06031746, 3.4547619 , 2.52222222,\n",
       "         4.25396825, 6.08730159, 3.96666667, 2.5797619 , 5.01587302],\n",
       "        [5.15634921, 4.61111111, 3.95      , 3.38888889, 2.8547619 ,\n",
       "         4.42261905, 6.2202381 , 4.11269841, 2.83492063, 5.26746032],\n",
       "        [5.28055556, 4.        , 4.22222222, 3.43611111, 3.30555556,\n",
       "         4.86111111, 5.625     , 4.87222222, 2.63333333, 5.525     ],\n",
       "        [2.99801587, 2.78769841, 2.57738095, 2.78571429, 1.83333333,\n",
       "         3.40674603, 3.93055556, 2.51190476, 1.9265873 , 3.2202381 ]])"
      ]
     },
     "execution_count": 126,
     "metadata": {},
     "output_type": "execute_result"
    }
   ],
   "source": [
    "recommends = jaccard_similarities.dot(item_user_matrix) + jaccard_similarities.T.dot(item_user_matrix)\n",
    "recommends.todense()"
   ]
  },
  {
   "cell_type": "code",
   "execution_count": null,
   "metadata": {},
   "outputs": [],
   "source": []
  }
 ],
 "metadata": {
  "kernelspec": {
   "display_name": "Python 3",
   "language": "python",
   "name": "python3"
  },
  "language_info": {
   "codemirror_mode": {
    "name": "ipython",
    "version": 3
   },
   "file_extension": ".py",
   "mimetype": "text/x-python",
   "name": "python",
   "nbconvert_exporter": "python",
   "pygments_lexer": "ipython3",
   "version": "3.7.0"
  }
 },
 "nbformat": 4,
 "nbformat_minor": 2
}
