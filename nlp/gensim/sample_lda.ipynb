{
 "cells": [
  {
   "cell_type": "code",
   "execution_count": 7,
   "metadata": {},
   "outputs": [],
   "source": [
    "from gensim.test.utils import common_texts\n",
    "from gensim.corpora.dictionary import Dictionary\n",
    "from gensim.models.ldamodel import LdaModel"
   ]
  },
  {
   "cell_type": "code",
   "execution_count": 2,
   "metadata": {},
   "outputs": [
    {
     "data": {
      "text/plain": [
       "[['human', 'interface', 'computer'],\n",
       " ['survey', 'user', 'computer', 'system', 'response', 'time'],\n",
       " ['eps', 'user', 'interface', 'system'],\n",
       " ['system', 'human', 'system', 'eps'],\n",
       " ['user', 'response', 'time'],\n",
       " ['trees'],\n",
       " ['graph', 'trees'],\n",
       " ['graph', 'minors', 'trees'],\n",
       " ['graph', 'minors', 'survey']]"
      ]
     },
     "execution_count": 2,
     "metadata": {},
     "output_type": "execute_result"
    }
   ],
   "source": [
    "common_texts"
   ]
  },
  {
   "cell_type": "code",
   "execution_count": 5,
   "metadata": {},
   "outputs": [],
   "source": [
    "common_dictionary = Dictionary(common_texts)\n",
    "common_corpus = [\n",
    "    common_dictionary.doc2bow(text)\n",
    "    for text in common_texts\n",
    "]"
   ]
  },
  {
   "cell_type": "code",
   "execution_count": 12,
   "metadata": {},
   "outputs": [
    {
     "name": "stderr",
     "output_type": "stream",
     "text": [
      "WARNING:gensim.models.ldamodel:too few updates, training might not converge; consider increasing the number of passes or iterations to improve accuracy\n"
     ]
    }
   ],
   "source": [
    "lda = LdaModel(common_corpus, num_topics=10, id2word=common_dictionary)"
   ]
  },
  {
   "cell_type": "code",
   "execution_count": 13,
   "metadata": {},
   "outputs": [
    {
     "data": {
      "text/plain": [
       "[(0,\n",
       "  '0.083*\"trees\" + 0.083*\"graph\" + 0.083*\"system\" + 0.083*\"user\" + 0.083*\"minors\" + 0.083*\"interface\" + 0.083*\"eps\" + 0.083*\"response\" + 0.083*\"computer\" + 0.083*\"human\"'),\n",
       " (1,\n",
       "  '0.262*\"graph\" + 0.262*\"survey\" + 0.262*\"minors\" + 0.024*\"trees\" + 0.024*\"system\" + 0.024*\"interface\" + 0.024*\"user\" + 0.024*\"human\" + 0.024*\"computer\" + 0.024*\"response\"'),\n",
       " (2,\n",
       "  '0.083*\"trees\" + 0.083*\"minors\" + 0.083*\"system\" + 0.083*\"user\" + 0.083*\"interface\" + 0.083*\"response\" + 0.083*\"graph\" + 0.083*\"human\" + 0.083*\"survey\" + 0.083*\"computer\"'),\n",
       " (3,\n",
       "  '0.083*\"trees\" + 0.083*\"graph\" + 0.083*\"minors\" + 0.083*\"user\" + 0.083*\"system\" + 0.083*\"human\" + 0.083*\"response\" + 0.083*\"computer\" + 0.083*\"interface\" + 0.083*\"survey\"'),\n",
       " (4,\n",
       "  '0.083*\"trees\" + 0.083*\"graph\" + 0.083*\"user\" + 0.083*\"system\" + 0.083*\"interface\" + 0.083*\"minors\" + 0.083*\"human\" + 0.083*\"response\" + 0.083*\"computer\" + 0.083*\"eps\"'),\n",
       " (5,\n",
       "  '0.083*\"trees\" + 0.083*\"graph\" + 0.083*\"minors\" + 0.083*\"system\" + 0.083*\"user\" + 0.083*\"interface\" + 0.083*\"human\" + 0.083*\"eps\" + 0.083*\"computer\" + 0.083*\"response\"'),\n",
       " (6,\n",
       "  '0.262*\"human\" + 0.262*\"computer\" + 0.262*\"interface\" + 0.024*\"trees\" + 0.024*\"graph\" + 0.024*\"minors\" + 0.024*\"user\" + 0.024*\"system\" + 0.024*\"response\" + 0.024*\"eps\"'),\n",
       " (7,\n",
       "  '0.500*\"trees\" + 0.262*\"graph\" + 0.024*\"system\" + 0.024*\"minors\" + 0.024*\"user\" + 0.024*\"human\" + 0.024*\"interface\" + 0.024*\"computer\" + 0.024*\"survey\" + 0.024*\"response\"'),\n",
       " (8,\n",
       "  '0.159*\"time\" + 0.159*\"user\" + 0.159*\"response\" + 0.083*\"survey\" + 0.083*\"computer\" + 0.083*\"graph\" + 0.083*\"trees\" + 0.083*\"system\" + 0.083*\"minors\" + 0.008*\"human\"'),\n",
       " (9,\n",
       "  '0.337*\"system\" + 0.228*\"eps\" + 0.120*\"interface\" + 0.120*\"user\" + 0.120*\"human\" + 0.011*\"trees\" + 0.011*\"graph\" + 0.011*\"minors\" + 0.011*\"survey\" + 0.011*\"response\"')]"
      ]
     },
     "execution_count": 13,
     "metadata": {},
     "output_type": "execute_result"
    }
   ],
   "source": [
    "lda.show_topics()"
   ]
  },
  {
   "cell_type": "code",
   "execution_count": null,
   "metadata": {},
   "outputs": [],
   "source": []
  },
  {
   "cell_type": "code",
   "execution_count": null,
   "metadata": {},
   "outputs": [],
   "source": []
  }
 ],
 "metadata": {
  "kernelspec": {
   "display_name": "Python 3",
   "language": "python",
   "name": "python3"
  },
  "language_info": {
   "codemirror_mode": {
    "name": "ipython",
    "version": 3
   },
   "file_extension": ".py",
   "mimetype": "text/x-python",
   "name": "python",
   "nbconvert_exporter": "python",
   "pygments_lexer": "ipython3",
   "version": "3.6.3"
  }
 },
 "nbformat": 4,
 "nbformat_minor": 2
}
