{
 "cells": [
  {
   "cell_type": "code",
   "execution_count": 1,
   "metadata": {},
   "outputs": [],
   "source": [
    "def leventsthtein(s1, s2):\n",
    "    if s1 == s2:\n",
    "        return 0\n",
    "    elif len(s1) == 0:\n",
    "        return len(s2)\n",
    "    elif len(s2) == 0:\n",
    "        return len(s1)\n",
    "    \n",
    "    v1 = [None] * (len(s2)+1)\n",
    "    v2 = [None] * (len(s2)+1)\n",
    "    \n",
    "    for i, _ in enumerate(v1):\n",
    "        v1[i] = i\n",
    "    \n",
    "    for i, c1 in enumerate(s1):\n",
    "        v2[i] = i + 1\n",
    "        for j, c2 in enumerate(s2):\n",
    "            cost = 0 if c1 == c2 else 1\n",
    "            v2[j+1] = min(v2[j]+1, v1[j+1]+1, v1[j]+cost)\n",
    "        \n",
    "        for j, _ in enumerate(v1):\n",
    "            v1[j] = v2[j]\n",
    "    \n",
    "    return v1[-1]"
   ]
  },
  {
   "cell_type": "code",
   "execution_count": 2,
   "metadata": {},
   "outputs": [],
   "source": [
    "s1 = 'test'\n",
    "s2 = 'east'"
   ]
  },
  {
   "cell_type": "code",
   "execution_count": 3,
   "metadata": {},
   "outputs": [
    {
     "data": {
      "text/plain": [
       "2"
      ]
     },
     "execution_count": 3,
     "metadata": {},
     "output_type": "execute_result"
    }
   ],
   "source": [
    "leventsthtein(s1, s2)"
   ]
  },
  {
   "cell_type": "code",
   "execution_count": null,
   "metadata": {},
   "outputs": [],
   "source": []
  }
 ],
 "metadata": {
  "kernelspec": {
   "display_name": "Python 3",
   "language": "python",
   "name": "python3"
  },
  "language_info": {
   "codemirror_mode": {
    "name": "ipython",
    "version": 3
   },
   "file_extension": ".py",
   "mimetype": "text/x-python",
   "name": "python",
   "nbconvert_exporter": "python",
   "pygments_lexer": "ipython3",
   "version": "3.7.3"
  }
 },
 "nbformat": 4,
 "nbformat_minor": 2
}
