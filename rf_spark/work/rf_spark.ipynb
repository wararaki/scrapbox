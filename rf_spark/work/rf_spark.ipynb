{
 "cells": [
  {
   "cell_type": "code",
   "execution_count": 20,
   "metadata": {},
   "outputs": [],
   "source": [
    "from pyspark.ml.classification import RandomForestClassifier\n",
    "from pyspark.ml.linalg import Vectors\n",
    "from pyspark.sql import SparkSession\n",
    "from pyspark.ml.evaluation import MulticlassClassificationEvaluator\n",
    "from sklearn import datasets"
   ]
  },
  {
   "cell_type": "code",
   "execution_count": 3,
   "metadata": {},
   "outputs": [],
   "source": [
    "spark = SparkSession.builder.getOrCreate()\n",
    "sc = spark.sparkContext"
   ]
  },
  {
   "cell_type": "code",
   "execution_count": 4,
   "metadata": {},
   "outputs": [
    {
     "data": {
      "text/html": [
       "\n",
       "            <div>\n",
       "                <p><b>SparkSession - in-memory</b></p>\n",
       "                \n",
       "        <div>\n",
       "            <p><b>SparkContext</b></p>\n",
       "\n",
       "            <p><a href=\"http://6f7b7dea0b81:4040\">Spark UI</a></p>\n",
       "\n",
       "            <dl>\n",
       "              <dt>Version</dt>\n",
       "                <dd><code>v2.3.1</code></dd>\n",
       "              <dt>Master</dt>\n",
       "                <dd><code>local[*]</code></dd>\n",
       "              <dt>AppName</dt>\n",
       "                <dd><code>pyspark-shell</code></dd>\n",
       "            </dl>\n",
       "        </div>\n",
       "        \n",
       "            </div>\n",
       "        "
      ],
      "text/plain": [
       "<pyspark.sql.session.SparkSession at 0x7f843b1a0e48>"
      ]
     },
     "execution_count": 4,
     "metadata": {},
     "output_type": "execute_result"
    }
   ],
   "source": [
    "spark"
   ]
  },
  {
   "cell_type": "code",
   "execution_count": 5,
   "metadata": {},
   "outputs": [],
   "source": [
    "iris = datasets.load_iris()"
   ]
  },
  {
   "cell_type": "code",
   "execution_count": 12,
   "metadata": {},
   "outputs": [],
   "source": [
    "df = spark.createDataFrame(\n",
    "    [(int(y), Vectors.dense(x)) for y, x in zip(iris.target, iris.data)],\n",
    "    ['label', 'features']\n",
    ")"
   ]
  },
  {
   "cell_type": "code",
   "execution_count": 13,
   "metadata": {},
   "outputs": [],
   "source": [
    "train_df, test_df = df.randomSplit([0.7, 0.3])"
   ]
  },
  {
   "cell_type": "code",
   "execution_count": 26,
   "metadata": {},
   "outputs": [],
   "source": [
    "rf = RandomForestClassifier(labelCol='label', featuresCol='features', numTrees=10)"
   ]
  },
  {
   "cell_type": "code",
   "execution_count": 27,
   "metadata": {},
   "outputs": [],
   "source": [
    "model = rf.fit(train_df)"
   ]
  },
  {
   "cell_type": "code",
   "execution_count": 28,
   "metadata": {},
   "outputs": [],
   "source": [
    "predicts = model.transform(test_df)"
   ]
  },
  {
   "cell_type": "code",
   "execution_count": 29,
   "metadata": {},
   "outputs": [
    {
     "name": "stdout",
     "output_type": "stream",
     "text": [
      "+-----+-----------------+---------------+-----------------+----------+\n",
      "|label|         features|  rawPrediction|      probability|prediction|\n",
      "+-----+-----------------+---------------+-----------------+----------+\n",
      "|    0|[4.7,3.2,1.6,0.2]| [10.0,0.0,0.0]|    [1.0,0.0,0.0]|       0.0|\n",
      "|    0|[4.8,3.0,1.4,0.1]| [10.0,0.0,0.0]|    [1.0,0.0,0.0]|       0.0|\n",
      "|    0|[5.0,3.0,1.6,0.2]| [10.0,0.0,0.0]|    [1.0,0.0,0.0]|       0.0|\n",
      "|    0|[5.0,3.4,1.6,0.4]| [10.0,0.0,0.0]|    [1.0,0.0,0.0]|       0.0|\n",
      "|    0|[5.1,3.5,1.4,0.2]| [10.0,0.0,0.0]|    [1.0,0.0,0.0]|       0.0|\n",
      "|    0|[5.1,3.7,1.5,0.4]| [10.0,0.0,0.0]|    [1.0,0.0,0.0]|       0.0|\n",
      "|    0|[5.1,3.8,1.5,0.3]| [10.0,0.0,0.0]|    [1.0,0.0,0.0]|       0.0|\n",
      "|    0|[5.2,3.4,1.4,0.2]| [10.0,0.0,0.0]|    [1.0,0.0,0.0]|       0.0|\n",
      "|    0|[5.2,3.5,1.5,0.2]| [10.0,0.0,0.0]|    [1.0,0.0,0.0]|       0.0|\n",
      "|    0|[5.2,4.1,1.5,0.1]| [10.0,0.0,0.0]|    [1.0,0.0,0.0]|       0.0|\n",
      "|    0|[5.7,3.8,1.7,0.3]|  [8.0,2.0,0.0]|    [0.8,0.2,0.0]|       0.0|\n",
      "|    1|[4.9,2.4,3.3,1.0]|  [0.0,7.0,3.0]|    [0.0,0.7,0.3]|       1.0|\n",
      "|    1|[5.0,2.0,3.5,1.0]| [0.0,10.0,0.0]|    [0.0,1.0,0.0]|       1.0|\n",
      "|    1|[5.5,2.3,4.0,1.3]| [0.0,10.0,0.0]|    [0.0,1.0,0.0]|       1.0|\n",
      "|    1|[5.6,2.5,3.9,1.1]| [0.0,10.0,0.0]|    [0.0,1.0,0.0]|       1.0|\n",
      "|    1|[5.6,3.0,4.5,1.5]|  [0.0,9.0,1.0]|    [0.0,0.9,0.1]|       1.0|\n",
      "|    1|[6.2,2.2,4.5,1.5]| [0.0,10.0,0.0]|    [0.0,1.0,0.0]|       1.0|\n",
      "|    1|[6.3,2.5,4.9,1.5]|[0.0,6.25,3.75]|[0.0,0.625,0.375]|       1.0|\n",
      "|    1|[6.3,3.3,4.7,1.6]|  [0.0,8.0,2.0]|    [0.0,0.8,0.2]|       1.0|\n",
      "|    1|[6.4,2.9,4.3,1.3]| [0.0,10.0,0.0]|    [0.0,1.0,0.0]|       1.0|\n",
      "+-----+-----------------+---------------+-----------------+----------+\n",
      "only showing top 20 rows\n",
      "\n"
     ]
    }
   ],
   "source": [
    "predicts.show()"
   ]
  },
  {
   "cell_type": "code",
   "execution_count": 30,
   "metadata": {},
   "outputs": [],
   "source": [
    "evaluater = MulticlassClassificationEvaluator(labelCol='label', predictionCol='prediction')"
   ]
  },
  {
   "cell_type": "code",
   "execution_count": 33,
   "metadata": {},
   "outputs": [
    {
     "data": {
      "text/plain": [
       "1.0"
      ]
     },
     "execution_count": 33,
     "metadata": {},
     "output_type": "execute_result"
    }
   ],
   "source": [
    "accuracy = evaluater.evaluate(predicts)\n",
    "accuracy"
   ]
  },
  {
   "cell_type": "code",
   "execution_count": null,
   "metadata": {},
   "outputs": [],
   "source": []
  }
 ],
 "metadata": {
  "kernelspec": {
   "display_name": "Python 3",
   "language": "python",
   "name": "python3"
  },
  "language_info": {
   "codemirror_mode": {
    "name": "ipython",
    "version": 3
   },
   "file_extension": ".py",
   "mimetype": "text/x-python",
   "name": "python",
   "nbconvert_exporter": "python",
   "pygments_lexer": "ipython3",
   "version": "3.6.3"
  }
 },
 "nbformat": 4,
 "nbformat_minor": 2
}
