{
 "cells": [
  {
   "cell_type": "markdown",
   "metadata": {},
   "source": [
    "https://pytorch.org/tutorials/beginner/blitz/cifar10_tutorial.html\n",
    "https://pytorch.org/tutorials/beginner/saving_loading_models.html"
   ]
  },
  {
   "cell_type": "code",
   "execution_count": 1,
   "metadata": {},
   "outputs": [],
   "source": [
    "import numpy as np\n",
    "from sklearn import datasets\n",
    "from sklearn.model_selection import train_test_split\n",
    "\n",
    "import torch\n",
    "import torch.nn.functional as F\n",
    "import torch.nn as nn\n",
    "from torch.utils.data import TensorDataset, DataLoader"
   ]
  },
  {
   "cell_type": "code",
   "execution_count": 2,
   "metadata": {},
   "outputs": [],
   "source": [
    "# load data\n",
    "iris = datasets.load_iris()\n",
    "x = iris.data\n",
    "y = iris.target"
   ]
  },
  {
   "cell_type": "code",
   "execution_count": 3,
   "metadata": {},
   "outputs": [],
   "source": [
    "# parameters\n",
    "learning_rate = 1e-2\n",
    "\n",
    "n_input = x.shape[1]\n",
    "n_hidden = 20\n",
    "n_output = np.unique(y).shape[0]"
   ]
  },
  {
   "cell_type": "code",
   "execution_count": 4,
   "metadata": {},
   "outputs": [],
   "source": [
    "# split dataset\n",
    "x_train, x_test, y_train, y_test = train_test_split(x, y, test_size=0.3)\n",
    "\n",
    "\n",
    "# define loader\n",
    "train = TensorDataset(torch.from_numpy(x_train).float(), torch.from_numpy(y_train).long())\n",
    "train_loader = DataLoader(train, batch_size=20, shuffle=True)\n",
    "\n",
    "test = TensorDataset(torch.from_numpy(x_test).float(), torch.from_numpy(y_test).long())\n",
    "test_loader = DataLoader(test, shuffle=True)"
   ]
  },
  {
   "cell_type": "code",
   "execution_count": 5,
   "metadata": {},
   "outputs": [],
   "source": [
    "# model class definition\n",
    "class NNModel(nn.Module):\n",
    "    def __init__(self, n_input, n_hidden, n_output):\n",
    "        super(NNModel, self).__init__()\n",
    "        self.l1 = nn.Linear(n_input, n_hidden)\n",
    "        self.l2 = nn.Linear(n_hidden, n_output)\n",
    "    \n",
    "    def forward(self, x):\n",
    "        x = F.relu(self.l1(x))\n",
    "        y = self.l2(x)\n",
    "        return y"
   ]
  },
  {
   "cell_type": "code",
   "execution_count": 6,
   "metadata": {},
   "outputs": [],
   "source": [
    "# model definition\n",
    "# model = nn.Sequential(\n",
    "#     nn.Linear(n_input, n_hidden),\n",
    "#     nn.ReLU(),\n",
    "#     nn.Linear(n_hidden, n_output)\n",
    "# )\n",
    "\n",
    "model = NNModel(n_input, n_hidden, n_output)"
   ]
  },
  {
   "cell_type": "code",
   "execution_count": 7,
   "metadata": {},
   "outputs": [],
   "source": [
    "# learning functions\n",
    "criterion = nn.CrossEntropyLoss()\n",
    "optimizer = torch.optim.Adam(model.parameters(), lr=learning_rate)"
   ]
  },
  {
   "cell_type": "code",
   "execution_count": 8,
   "metadata": {},
   "outputs": [],
   "source": [
    "# train model\n",
    "def train(epoch):\n",
    "    total_loss = 0\n",
    "    total_size = 0\n",
    "    \n",
    "    # switch train model mode\n",
    "    model.train()\n",
    "    for data, target in train_loader:\n",
    "        # forward\n",
    "        y_pred = model(data)\n",
    "\n",
    "        # compute loss\n",
    "        loss = criterion(y_pred, target)\n",
    "\n",
    "        # optimizer\n",
    "        optimizer.zero_grad()\n",
    "\n",
    "        # learn\n",
    "        loss.backward()\n",
    "        \n",
    "        total_loss += loss.item()\n",
    "        total_size += data.size(0)\n",
    "\n",
    "        # step\n",
    "        optimizer.step()\n",
    "\n",
    "    if epoch%100 == 0:\n",
    "        print(f'{epoch}-epoch: average loss: {total_loss/total_size}')"
   ]
  },
  {
   "cell_type": "code",
   "execution_count": 9,
   "metadata": {},
   "outputs": [],
   "source": [
    "# test function\n",
    "def test():\n",
    "    # switch model test mode\n",
    "    model.eval()\n",
    "    \n",
    "    total = 0\n",
    "    correct = 0\n",
    "    with torch.no_grad():\n",
    "        for data, target in test_loader:\n",
    "            output = model(data)\n",
    "            _, predicted = torch.max(data, 1)\n",
    "            total += target.size(0)\n",
    "            correct += (predicted == target).sum().item()\n",
    "    print(f'Accuracy: {100*correct/total}%[{correct}/{total}]')"
   ]
  },
  {
   "cell_type": "code",
   "execution_count": 10,
   "metadata": {},
   "outputs": [
    {
     "name": "stdout",
     "output_type": "stream",
     "text": [
      "100-epoch: average loss: 0.0043569740262769515\n",
      "200-epoch: average loss: 0.006403860414312\n",
      "300-epoch: average loss: 0.002432687067803705\n",
      "400-epoch: average loss: 0.0016944001705962277\n",
      "500-epoch: average loss: 0.0019995341271472475\n",
      "600-epoch: average loss: 0.001130804231589926\n",
      "700-epoch: average loss: 0.0021220025624470074\n",
      "800-epoch: average loss: 0.0012877489395794414\n",
      "900-epoch: average loss: 0.001228560633691294\n",
      "1000-epoch: average loss: 0.001262071837793753\n",
      "Accuracy: 31.11111111111111%[14/45]\n"
     ]
    }
   ],
   "source": [
    "for epoch in range(1000):\n",
    "    train(epoch+1)\n",
    "test()"
   ]
  },
  {
   "cell_type": "code",
   "execution_count": 11,
   "metadata": {},
   "outputs": [],
   "source": [
    "# save model\n",
    "torch.save(model.state_dict(), 'model/model.pth')"
   ]
  },
  {
   "cell_type": "code",
   "execution_count": 12,
   "metadata": {},
   "outputs": [],
   "source": [
    "# load model\n",
    "model = NNModel(n_input, n_hidden, n_output)\n",
    "model.load_state_dict(torch.load('model/model.pth'))"
   ]
  },
  {
   "cell_type": "code",
   "execution_count": 13,
   "metadata": {},
   "outputs": [
    {
     "name": "stdout",
     "output_type": "stream",
     "text": [
      "Accuracy: 31.11111111111111%[14/45]\n"
     ]
    }
   ],
   "source": [
    "test()"
   ]
  },
  {
   "cell_type": "code",
   "execution_count": 14,
   "metadata": {},
   "outputs": [
    {
     "data": {
      "text/plain": [
       "tensor([[-0.0817,  3.9299, -6.1477]], grad_fn=<AddmmBackward>)"
      ]
     },
     "metadata": {},
     "output_type": "display_data"
    },
    {
     "data": {
      "text/plain": [
       "(tensor([3.9299], grad_fn=<MaxBackward0>), tensor([1]))"
      ]
     },
     "metadata": {},
     "output_type": "display_data"
    },
    {
     "data": {
      "text/plain": [
       "1"
      ]
     },
     "metadata": {},
     "output_type": "display_data"
    }
   ],
   "source": [
    "# predict\n",
    "y_pred = model(torch.Tensor([[1, 0, 0, 1]]))\n",
    "\n",
    "# show predict result\n",
    "display(y_pred)\n",
    "result = torch.max(y_pred, 1)\n",
    "\n",
    "# get max score class\n",
    "display(result)\n",
    "\n",
    "# get predict label\n",
    "pred_label = result[1].item()\n",
    "display(pred_label)"
   ]
  },
  {
   "cell_type": "code",
   "execution_count": null,
   "metadata": {},
   "outputs": [],
   "source": []
  }
 ],
 "metadata": {
  "kernelspec": {
   "display_name": "Python 3",
   "language": "python",
   "name": "python3"
  },
  "language_info": {
   "codemirror_mode": {
    "name": "ipython",
    "version": 3
   },
   "file_extension": ".py",
   "mimetype": "text/x-python",
   "name": "python",
   "nbconvert_exporter": "python",
   "pygments_lexer": "ipython3",
   "version": "3.6.3"
  }
 },
 "nbformat": 4,
 "nbformat_minor": 2
}
