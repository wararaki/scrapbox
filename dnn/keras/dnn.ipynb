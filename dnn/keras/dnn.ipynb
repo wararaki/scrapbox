{
 "cells": [
  {
   "cell_type": "code",
   "execution_count": 52,
   "metadata": {},
   "outputs": [],
   "source": [
    "import keras\n",
    "from keras.models import Sequential\n",
    "from keras.layers import Dense, Activation\n",
    "\n",
    "from sklearn import datasets\n",
    "from sklearn.model_selection import train_test_split"
   ]
  },
  {
   "cell_type": "markdown",
   "metadata": {},
   "source": [
    "#### create model"
   ]
  },
  {
   "cell_type": "code",
   "execution_count": 53,
   "metadata": {},
   "outputs": [],
   "source": [
    "def create_model(n_input, n_output):\n",
    "    model = Sequential([\n",
    "        Dense(32, input_shape=(n_input,)),\n",
    "        Activation('relu'),\n",
    "        Dense(n_output),\n",
    "        Activation('softmax')\n",
    "    ])\n",
    "\n",
    "    model.compile(\n",
    "        optimizer='rmsprop',\n",
    "        loss='categorical_crossentropy',\n",
    "        metrics=['accuracy']\n",
    "    )\n",
    "    return model"
   ]
  },
  {
   "cell_type": "code",
   "execution_count": 54,
   "metadata": {},
   "outputs": [],
   "source": [
    "model = create_model(4, 3)"
   ]
  },
  {
   "cell_type": "markdown",
   "metadata": {},
   "source": [
    "#### prepare datasets"
   ]
  },
  {
   "cell_type": "code",
   "execution_count": 55,
   "metadata": {},
   "outputs": [],
   "source": [
    "# load iris datasets\n",
    "iris = datasets.load_iris()\n",
    "data = iris.data\n",
    "target = iris.target"
   ]
  },
  {
   "cell_type": "code",
   "execution_count": 56,
   "metadata": {},
   "outputs": [],
   "source": [
    "# create test data\n",
    "X_train, X_test, y_train, y_test = train_test_split(data, target)\n",
    "\n",
    "y_train = keras.utils.to_categorical(y_train, num_classes=3)\n",
    "y_test = keras.utils.to_categorical(y_test, num_classes=3)"
   ]
  },
  {
   "cell_type": "markdown",
   "metadata": {},
   "source": [
    "#### model fit"
   ]
  },
  {
   "cell_type": "code",
   "execution_count": 60,
   "metadata": {},
   "outputs": [
    {
     "data": {
      "text/plain": [
       "<keras.callbacks.History at 0x7f9a17350d68>"
      ]
     },
     "execution_count": 60,
     "metadata": {},
     "output_type": "execute_result"
    }
   ],
   "source": [
    "model.fit(X_train, y_train, epochs=50, verbose=0)"
   ]
  },
  {
   "cell_type": "markdown",
   "metadata": {},
   "source": [
    "model evaluations"
   ]
  },
  {
   "cell_type": "code",
   "execution_count": 67,
   "metadata": {},
   "outputs": [
    {
     "name": "stdout",
     "output_type": "stream",
     "text": [
      "38/38 [==============================] - 0s 320us/step\n",
      "loss    : 0.30020828937229355\n",
      "accuracy: 0.9210526347160339\n"
     ]
    }
   ],
   "source": [
    "loss, accuracy = model.evaluate(X_test, y_test)\n",
    "print(f'loss    : {loss}')\n",
    "print(f'accuracy: {accuracy}')"
   ]
  },
  {
   "cell_type": "code",
   "execution_count": 41,
   "metadata": {},
   "outputs": [],
   "source": [
    "y_preds = model.predict(X_test)"
   ]
  },
  {
   "cell_type": "code",
   "execution_count": 44,
   "metadata": {},
   "outputs": [
    {
     "data": {
      "text/plain": [
       "array([[9.90374207e-01, 8.05117004e-03, 1.57462142e-03],\n",
       "       [9.97162104e-01, 2.43348745e-03, 4.04414081e-04],\n",
       "       [9.93292093e-01, 5.63527970e-03, 1.07269094e-03],\n",
       "       [9.96192932e-01, 3.23947705e-03, 5.67502866e-04],\n",
       "       [9.90864933e-01, 7.40392972e-03, 1.73111504e-03],\n",
       "       [9.97767448e-01, 1.96235348e-03, 2.70287594e-04],\n",
       "       [9.91973758e-01, 6.72246190e-03, 1.30379852e-03],\n",
       "       [9.93260682e-01, 5.54911839e-03, 1.19027519e-03],\n",
       "       [9.98928845e-01, 9.32262163e-04, 1.38858377e-04],\n",
       "       [9.98056412e-01, 1.72280334e-03, 2.20835223e-04],\n",
       "       [9.98278379e-01, 1.52332522e-03, 1.98263413e-04],\n",
       "       [9.97638345e-01, 2.02873372e-03, 3.32845288e-04],\n",
       "       [9.94039416e-01, 4.97770356e-03, 9.83002363e-04],\n",
       "       [9.98371542e-01, 1.43123814e-03, 1.97256464e-04],\n",
       "       [9.92753327e-01, 6.16958551e-03, 1.07708713e-03],\n",
       "       [9.89637315e-01, 8.64049885e-03, 1.72223942e-03],\n",
       "       [9.97737646e-01, 1.92499137e-03, 3.37307050e-04],\n",
       "       [9.95252252e-01, 3.94686498e-03, 8.00897076e-04],\n",
       "       [9.96293843e-01, 3.18079814e-03, 5.25329204e-04],\n",
       "       [9.88783777e-01, 9.26012360e-03, 1.95610547e-03],\n",
       "       [9.91509676e-01, 7.11044716e-03, 1.37987640e-03],\n",
       "       [9.91040170e-01, 7.54534081e-03, 1.41452672e-03],\n",
       "       [9.95233834e-01, 4.03177133e-03, 7.34411704e-04],\n",
       "       [9.96702731e-01, 2.76682992e-03, 5.30424935e-04],\n",
       "       [9.85678732e-01, 1.16951428e-02, 2.62622861e-03],\n",
       "       [9.98562396e-01, 1.26759382e-03, 1.69974272e-04],\n",
       "       [9.94396448e-01, 4.70665749e-03, 8.96853860e-04],\n",
       "       [9.97413576e-01, 2.23213644e-03, 3.54372489e-04],\n",
       "       [9.97903109e-01, 1.82948203e-03, 2.67375814e-04],\n",
       "       [9.86607313e-01, 1.11679705e-02, 2.22480763e-03],\n",
       "       [9.98458266e-01, 1.36392040e-03, 1.77840338e-04],\n",
       "       [9.89966750e-01, 8.40220321e-03, 1.63103000e-03],\n",
       "       [9.97814655e-01, 1.89125445e-03, 2.93990888e-04],\n",
       "       [9.87070382e-01, 1.04613947e-02, 2.46817945e-03],\n",
       "       [9.88285661e-01, 9.45321191e-03, 2.26114038e-03],\n",
       "       [9.94230032e-01, 4.71753441e-03, 1.05248077e-03],\n",
       "       [9.96690273e-01, 2.77250237e-03, 5.37152577e-04],\n",
       "       [9.97830212e-01, 1.87088165e-03, 2.98890169e-04]], dtype=float32)"
      ]
     },
     "execution_count": 44,
     "metadata": {},
     "output_type": "execute_result"
    }
   ],
   "source": [
    "y_preds"
   ]
  },
  {
   "cell_type": "code",
   "execution_count": null,
   "metadata": {},
   "outputs": [],
   "source": []
  }
 ],
 "metadata": {
  "kernelspec": {
   "display_name": "Python 3",
   "language": "python",
   "name": "python3"
  },
  "language_info": {
   "codemirror_mode": {
    "name": "ipython",
    "version": 3
   },
   "file_extension": ".py",
   "mimetype": "text/x-python",
   "name": "python",
   "nbconvert_exporter": "python",
   "pygments_lexer": "ipython3",
   "version": "3.7.0"
  }
 },
 "nbformat": 4,
 "nbformat_minor": 2
}
